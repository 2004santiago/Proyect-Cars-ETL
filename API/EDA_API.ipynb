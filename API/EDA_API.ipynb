{
 "cells": [
  {
   "cell_type": "code",
   "execution_count": 2,
   "metadata": {},
   "outputs": [],
   "source": [
    "import pandas as pd\n",
    "import numpy as np\n",
    "import matplotlib.pyplot as plt\n",
    "from sqlalchemy import create_engine, inspect\n",
    "from dotenv import load_dotenv\n",
    "import os"
   ]
  },
  {
   "cell_type": "code",
   "execution_count": 3,
   "metadata": {},
   "outputs": [
    {
     "data": {
      "text/html": [
       "<div>\n",
       "<style scoped>\n",
       "    .dataframe tbody tr th:only-of-type {\n",
       "        vertical-align: middle;\n",
       "    }\n",
       "\n",
       "    .dataframe tbody tr th {\n",
       "        vertical-align: top;\n",
       "    }\n",
       "\n",
       "    .dataframe thead th {\n",
       "        text-align: right;\n",
       "    }\n",
       "</style>\n",
       "<table border=\"1\" class=\"dataframe\">\n",
       "  <thead>\n",
       "    <tr style=\"text-align: right;\">\n",
       "      <th></th>\n",
       "      <th>period</th>\n",
       "      <th>duoarea</th>\n",
       "      <th>area-name</th>\n",
       "      <th>product</th>\n",
       "      <th>product-name</th>\n",
       "      <th>process</th>\n",
       "      <th>process-name</th>\n",
       "      <th>series</th>\n",
       "      <th>series-description</th>\n",
       "      <th>value</th>\n",
       "      <th>units</th>\n",
       "    </tr>\n",
       "  </thead>\n",
       "  <tbody>\n",
       "    <tr>\n",
       "      <th>0</th>\n",
       "      <td>2024-09-30</td>\n",
       "      <td>R30</td>\n",
       "      <td>PADD 3</td>\n",
       "      <td>EPM0</td>\n",
       "      <td>Total Gasoline</td>\n",
       "      <td>PTE</td>\n",
       "      <td>Retail Sales</td>\n",
       "      <td>EMM_EPM0_PTE_R30_DPG</td>\n",
       "      <td>Gulf Coast All Grades All Formulations Retail ...</td>\n",
       "      <td>2.793</td>\n",
       "      <td>$/GAL</td>\n",
       "    </tr>\n",
       "    <tr>\n",
       "      <th>1</th>\n",
       "      <td>2024-09-30</td>\n",
       "      <td>R10</td>\n",
       "      <td>PADD 1</td>\n",
       "      <td>EPD2D</td>\n",
       "      <td>No 2 Diesel</td>\n",
       "      <td>PTE</td>\n",
       "      <td>Retail Sales</td>\n",
       "      <td>EMD_EPD2D_PTE_R10_DPG</td>\n",
       "      <td>East Coast No 2 Diesel Retail Prices (Dollars ...</td>\n",
       "      <td>3.571</td>\n",
       "      <td>$/GAL</td>\n",
       "    </tr>\n",
       "    <tr>\n",
       "      <th>2</th>\n",
       "      <td>2024-09-30</td>\n",
       "      <td>R5XCA</td>\n",
       "      <td>PADD 5 EXCEPT CALIFORNIA</td>\n",
       "      <td>EPD2D</td>\n",
       "      <td>No 2 Diesel</td>\n",
       "      <td>PTE</td>\n",
       "      <td>Retail Sales</td>\n",
       "      <td>EMD_EPD2D_PTE_R5XCA_DPG</td>\n",
       "      <td>West Coast (PADD 5) Except California No 2 Die...</td>\n",
       "      <td>3.797</td>\n",
       "      <td>$/GAL</td>\n",
       "    </tr>\n",
       "    <tr>\n",
       "      <th>3</th>\n",
       "      <td>2024-09-30</td>\n",
       "      <td>R40</td>\n",
       "      <td>PADD 4</td>\n",
       "      <td>EPMRU</td>\n",
       "      <td>Conventional Regular Gasoline</td>\n",
       "      <td>PTE</td>\n",
       "      <td>Retail Sales</td>\n",
       "      <td>EMM_EPMRU_PTE_R40_DPG</td>\n",
       "      <td>Rocky Mountain Regular Conventional Retail Gas...</td>\n",
       "      <td>3.421</td>\n",
       "      <td>$/GAL</td>\n",
       "    </tr>\n",
       "    <tr>\n",
       "      <th>4</th>\n",
       "      <td>2024-09-30</td>\n",
       "      <td>R1X</td>\n",
       "      <td>PADD 1A</td>\n",
       "      <td>EPMRU</td>\n",
       "      <td>Conventional Regular Gasoline</td>\n",
       "      <td>PTE</td>\n",
       "      <td>Retail Sales</td>\n",
       "      <td>EMM_EPMRU_PTE_R1X_DPG</td>\n",
       "      <td>New England (PADD 1A) Regular Conventional Ret...</td>\n",
       "      <td>3.058</td>\n",
       "      <td>$/GAL</td>\n",
       "    </tr>\n",
       "  </tbody>\n",
       "</table>\n",
       "</div>"
      ],
      "text/plain": [
       "       period duoarea                 area-name product  \\\n",
       "0  2024-09-30     R30                    PADD 3    EPM0   \n",
       "1  2024-09-30     R10                    PADD 1   EPD2D   \n",
       "2  2024-09-30   R5XCA  PADD 5 EXCEPT CALIFORNIA   EPD2D   \n",
       "3  2024-09-30     R40                    PADD 4   EPMRU   \n",
       "4  2024-09-30     R1X                   PADD 1A   EPMRU   \n",
       "\n",
       "                    product-name process  process-name  \\\n",
       "0                 Total Gasoline     PTE  Retail Sales   \n",
       "1                    No 2 Diesel     PTE  Retail Sales   \n",
       "2                    No 2 Diesel     PTE  Retail Sales   \n",
       "3  Conventional Regular Gasoline     PTE  Retail Sales   \n",
       "4  Conventional Regular Gasoline     PTE  Retail Sales   \n",
       "\n",
       "                    series                                 series-description  \\\n",
       "0     EMM_EPM0_PTE_R30_DPG  Gulf Coast All Grades All Formulations Retail ...   \n",
       "1    EMD_EPD2D_PTE_R10_DPG  East Coast No 2 Diesel Retail Prices (Dollars ...   \n",
       "2  EMD_EPD2D_PTE_R5XCA_DPG  West Coast (PADD 5) Except California No 2 Die...   \n",
       "3    EMM_EPMRU_PTE_R40_DPG  Rocky Mountain Regular Conventional Retail Gas...   \n",
       "4    EMM_EPMRU_PTE_R1X_DPG  New England (PADD 1A) Regular Conventional Ret...   \n",
       "\n",
       "   value  units  \n",
       "0  2.793  $/GAL  \n",
       "1  3.571  $/GAL  \n",
       "2  3.797  $/GAL  \n",
       "3  3.421  $/GAL  \n",
       "4  3.058  $/GAL  "
      ]
     },
     "execution_count": 3,
     "metadata": {},
     "output_type": "execute_result"
    }
   ],
   "source": [
    "df = pd.read_csv(\"../Data/raw/petroleum_raw.csv\", delimiter=',',encoding='unicode_escape')\n",
    "df.head()"
   ]
  },
  {
   "cell_type": "code",
   "execution_count": 4,
   "metadata": {},
   "outputs": [
    {
     "name": "stdout",
     "output_type": "stream",
     "text": [
      "<class 'pandas.core.frame.DataFrame'>\n",
      "RangeIndex: 1000 entries, 0 to 999\n",
      "Data columns (total 11 columns):\n",
      " #   Column              Non-Null Count  Dtype  \n",
      "---  ------              --------------  -----  \n",
      " 0   period              1000 non-null   object \n",
      " 1   duoarea             1000 non-null   object \n",
      " 2   area-name           1000 non-null   object \n",
      " 3   product             1000 non-null   object \n",
      " 4   product-name        1000 non-null   object \n",
      " 5   process             1000 non-null   object \n",
      " 6   process-name        1000 non-null   object \n",
      " 7   series              1000 non-null   object \n",
      " 8   series-description  1000 non-null   object \n",
      " 9   value               988 non-null    float64\n",
      " 10  units               1000 non-null   object \n",
      "dtypes: float64(1), object(10)\n",
      "memory usage: 86.1+ KB\n"
     ]
    }
   ],
   "source": [
    "df.info()"
   ]
  },
  {
   "cell_type": "code",
   "execution_count": 5,
   "metadata": {},
   "outputs": [
    {
     "data": {
      "text/html": [
       "<div>\n",
       "<style scoped>\n",
       "    .dataframe tbody tr th:only-of-type {\n",
       "        vertical-align: middle;\n",
       "    }\n",
       "\n",
       "    .dataframe tbody tr th {\n",
       "        vertical-align: top;\n",
       "    }\n",
       "\n",
       "    .dataframe thead th {\n",
       "        text-align: right;\n",
       "    }\n",
       "</style>\n",
       "<table border=\"1\" class=\"dataframe\">\n",
       "  <thead>\n",
       "    <tr style=\"text-align: right;\">\n",
       "      <th></th>\n",
       "      <th>value</th>\n",
       "    </tr>\n",
       "  </thead>\n",
       "  <tbody>\n",
       "    <tr>\n",
       "      <th>count</th>\n",
       "      <td>988.000000</td>\n",
       "    </tr>\n",
       "    <tr>\n",
       "      <th>mean</th>\n",
       "      <td>3.695623</td>\n",
       "    </tr>\n",
       "    <tr>\n",
       "      <th>std</th>\n",
       "      <td>0.563167</td>\n",
       "    </tr>\n",
       "    <tr>\n",
       "      <th>min</th>\n",
       "      <td>2.605000</td>\n",
       "    </tr>\n",
       "    <tr>\n",
       "      <th>25%</th>\n",
       "      <td>3.239500</td>\n",
       "    </tr>\n",
       "    <tr>\n",
       "      <th>50%</th>\n",
       "      <td>3.612000</td>\n",
       "    </tr>\n",
       "    <tr>\n",
       "      <th>75%</th>\n",
       "      <td>4.053500</td>\n",
       "    </tr>\n",
       "    <tr>\n",
       "      <th>max</th>\n",
       "      <td>5.395000</td>\n",
       "    </tr>\n",
       "  </tbody>\n",
       "</table>\n",
       "</div>"
      ],
      "text/plain": [
       "            value\n",
       "count  988.000000\n",
       "mean     3.695623\n",
       "std      0.563167\n",
       "min      2.605000\n",
       "25%      3.239500\n",
       "50%      3.612000\n",
       "75%      4.053500\n",
       "max      5.395000"
      ]
     },
     "execution_count": 5,
     "metadata": {},
     "output_type": "execute_result"
    }
   ],
   "source": [
    "#Numerical summary (Only value)\n",
    "numerical_summary = df.describe()\n",
    "numerical_summary"
   ]
  },
  {
   "cell_type": "code",
   "execution_count": 6,
   "metadata": {},
   "outputs": [
    {
     "data": {
      "text/html": [
       "<div>\n",
       "<style scoped>\n",
       "    .dataframe tbody tr th:only-of-type {\n",
       "        vertical-align: middle;\n",
       "    }\n",
       "\n",
       "    .dataframe tbody tr th {\n",
       "        vertical-align: top;\n",
       "    }\n",
       "\n",
       "    .dataframe thead th {\n",
       "        text-align: right;\n",
       "    }\n",
       "</style>\n",
       "<table border=\"1\" class=\"dataframe\">\n",
       "  <thead>\n",
       "    <tr style=\"text-align: right;\">\n",
       "      <th></th>\n",
       "      <th>period</th>\n",
       "      <th>duoarea</th>\n",
       "      <th>area-name</th>\n",
       "      <th>product</th>\n",
       "      <th>product-name</th>\n",
       "      <th>process</th>\n",
       "      <th>process-name</th>\n",
       "      <th>series</th>\n",
       "      <th>series-description</th>\n",
       "      <th>units</th>\n",
       "    </tr>\n",
       "  </thead>\n",
       "  <tbody>\n",
       "    <tr>\n",
       "      <th>count</th>\n",
       "      <td>1000</td>\n",
       "      <td>1000</td>\n",
       "      <td>1000</td>\n",
       "      <td>1000</td>\n",
       "      <td>1000</td>\n",
       "      <td>1000</td>\n",
       "      <td>1000</td>\n",
       "      <td>1000</td>\n",
       "      <td>1000</td>\n",
       "      <td>1000</td>\n",
       "    </tr>\n",
       "    <tr>\n",
       "      <th>unique</th>\n",
       "      <td>4</td>\n",
       "      <td>29</td>\n",
       "      <td>29</td>\n",
       "      <td>14</td>\n",
       "      <td>14</td>\n",
       "      <td>1</td>\n",
       "      <td>1</td>\n",
       "      <td>310</td>\n",
       "      <td>310</td>\n",
       "      <td>1</td>\n",
       "    </tr>\n",
       "    <tr>\n",
       "      <th>top</th>\n",
       "      <td>2024-09-30</td>\n",
       "      <td>R5XCA</td>\n",
       "      <td>PADD 5 EXCEPT CALIFORNIA</td>\n",
       "      <td>EPM0</td>\n",
       "      <td>Total Gasoline</td>\n",
       "      <td>PTE</td>\n",
       "      <td>Retail Sales</td>\n",
       "      <td>EMM_EPMR_PTE_SMN_DPG</td>\n",
       "      <td>Minnesota Regular All Formulations Retail Gaso...</td>\n",
       "      <td>$/GAL</td>\n",
       "    </tr>\n",
       "    <tr>\n",
       "      <th>freq</th>\n",
       "      <td>310</td>\n",
       "      <td>46</td>\n",
       "      <td>46</td>\n",
       "      <td>97</td>\n",
       "      <td>97</td>\n",
       "      <td>1000</td>\n",
       "      <td>1000</td>\n",
       "      <td>4</td>\n",
       "      <td>4</td>\n",
       "      <td>1000</td>\n",
       "    </tr>\n",
       "  </tbody>\n",
       "</table>\n",
       "</div>"
      ],
      "text/plain": [
       "            period duoarea                 area-name product    product-name  \\\n",
       "count         1000    1000                      1000    1000            1000   \n",
       "unique           4      29                        29      14              14   \n",
       "top     2024-09-30   R5XCA  PADD 5 EXCEPT CALIFORNIA    EPM0  Total Gasoline   \n",
       "freq           310      46                        46      97              97   \n",
       "\n",
       "       process  process-name                series  \\\n",
       "count     1000          1000                  1000   \n",
       "unique       1             1                   310   \n",
       "top        PTE  Retail Sales  EMM_EPMR_PTE_SMN_DPG   \n",
       "freq      1000          1000                     4   \n",
       "\n",
       "                                       series-description  units  \n",
       "count                                                1000   1000  \n",
       "unique                                                310      1  \n",
       "top     Minnesota Regular All Formulations Retail Gaso...  $/GAL  \n",
       "freq                                                    4   1000  "
      ]
     },
     "execution_count": 6,
     "metadata": {},
     "output_type": "execute_result"
    }
   ],
   "source": [
    "#Categorical summary\n",
    "categorical_summary = df.describe(include=['object'])\n",
    "categorical_summary"
   ]
  },
  {
   "cell_type": "markdown",
   "metadata": {},
   "source": [
    "Si duoarrea y/o area-name hacen referencia a 1 estado cada unique, solo contariamos con 29 de los 50 estados que hay en USA.\n",
    "Bien puede no haber información de estos datos, o ser necesario llamar más datos de la API para un mejor analisis"
   ]
  },
  {
   "cell_type": "markdown",
   "metadata": {},
   "source": [
    "# Ahora vamos por las columnas"
   ]
  },
  {
   "cell_type": "markdown",
   "metadata": {},
   "source": [
    "## Period"
   ]
  },
  {
   "cell_type": "code",
   "execution_count": 7,
   "metadata": {},
   "outputs": [
    {
     "data": {
      "text/plain": [
       "period\n",
       "2024-09-30    310\n",
       "2024-09-23    310\n",
       "2024-09-16    310\n",
       "2024-09-09     70\n",
       "Name: count, dtype: int64"
      ]
     },
     "execution_count": 7,
     "metadata": {},
     "output_type": "execute_result"
    }
   ],
   "source": [
    "df['period'].value_counts()"
   ]
  },
  {
   "cell_type": "markdown",
   "metadata": {},
   "source": [
    "Solo cuatro periodos disponibles, en este caso 310 datos de todos los casos excepto 2024-09-09\n",
    "Esta columna está considerada como object, por lo que puede ser necesaria una transformación a fecha"
   ]
  },
  {
   "cell_type": "markdown",
   "metadata": {},
   "source": [
    "## Duoarea y area-name\n",
    "Al parecer están relacionadas, por lo que puede ser interesante compararlas a la vez"
   ]
  },
  {
   "cell_type": "code",
   "execution_count": 8,
   "metadata": {},
   "outputs": [
    {
     "data": {
      "text/plain": [
       "duoarea\n",
       "R5XCA    46\n",
       "R40      46\n",
       "R20      46\n",
       "R50      45\n",
       "R30      45\n",
       "R1Z      45\n",
       "R1Y      44\n",
       "NUS      44\n",
       "R1X      44\n",
       "R10      42\n",
       "STX      39\n",
       "SNY      38\n",
       "YDEN     38\n",
       "SCO      38\n",
       "SCA      32\n",
       "Y35NY    28\n",
       "Y05SF    28\n",
       "YMIA     28\n",
       "YCLE     28\n",
       "YORD     27\n",
       "Y48SE    27\n",
       "Y44HO    27\n",
       "Y05LA    26\n",
       "SMN      26\n",
       "SFL      25\n",
       "SMA      25\n",
       "SWA      25\n",
       "SOH      24\n",
       "YBOS     24\n",
       "Name: count, dtype: int64"
      ]
     },
     "execution_count": 8,
     "metadata": {},
     "output_type": "execute_result"
    }
   ],
   "source": [
    "df['duoarea'].value_counts()"
   ]
  },
  {
   "cell_type": "markdown",
   "metadata": {},
   "source": [
    "Para duoarea al parecer son codigos que representan la zona\n",
    "\n",
    "- El código R5XCA tiene un valor asociado de 46, que coincide con el área \"PADD 5 EXCEPT CALIFORNIA\" en la columna \"area-name\".\n",
    "    De las posibildades que se me ocurren para descifrar esto (o darle sentido)\n",
    "    R5 = PADD 5\n",
    "    X = EXCEPT\n",
    "    CA = CALIFORNIA\n",
    "\n",
    "- Este patrón se repite con otros códigos y sus respectivos nombres de área.\n",
    "Por ejemplo:\n",
    "R50 = 45     <->    PADD 5 = 45  \n",
    "\n",
    "Ya que esta información se repite y de manera más clara en area-name, podriamos considerar quitar esta columna"
   ]
  },
  {
   "cell_type": "code",
   "execution_count": 11,
   "metadata": {},
   "outputs": [
    {
     "data": {
      "text/plain": [
       "area-name\n",
       "PADD 5 EXCEPT CALIFORNIA    46\n",
       "PADD 4                      46\n",
       "PADD 2                      46\n",
       "PADD 5                      45\n",
       "PADD 3                      45\n",
       "PADD 1C                     45\n",
       "PADD 1B                     44\n",
       "U.S.                        44\n",
       "PADD 1A                     44\n",
       "PADD 1                      42\n",
       "TEXAS                       39\n",
       "NEW YORK                    38\n",
       "DENVER                      38\n",
       "COLORADO                    38\n",
       "CALIFORNIA                  32\n",
       "NEW YORK CITY               28\n",
       "SAN FRANCISCO               28\n",
       "MIAMI                       28\n",
       "CLEVELAND                   28\n",
       "CHICAGO                     27\n",
       "SEATTLE                     27\n",
       "HOUSTON                     27\n",
       "LOS ANGELES                 26\n",
       "MINNESOTA                   26\n",
       "FLORIDA                     25\n",
       "MASSACHUSETTS               25\n",
       "WASHINGTON                  25\n",
       "OHIO                        24\n",
       "BOSTON                      24\n",
       "Name: count, dtype: int64"
      ]
     },
     "execution_count": 11,
     "metadata": {},
     "output_type": "execute_result"
    }
   ],
   "source": [
    "df['area-name'].value_counts()"
   ]
  },
  {
   "cell_type": "markdown",
   "metadata": {},
   "source": [
    "### Consideraciones de esta columna:\n",
    "\n",
    "### 1. PADD (Petroleum Administration for Defense Districts):\n",
    "Descripción: Los PADDs son divisiones geográficas utilizadas por la Administración de Información de Energía (EIA) en los EE. UU. para rastrear los datos de suministro y distribución de petróleo. Estas áreas fueron originalmente creadas durante la Segunda Guerra Mundial para coordinar el suministro de petróleo.\n",
    "\n",
    "PADD 1, 1A, 1B, 1C: PADD 1 cubre la Costa Este de los EE. UU., y está subdividido en 3 áreas:\n",
    "PADD 1A: Nueva Inglaterra (Maine, Vermont, New Hampshire, Massachusetts, Connecticut, Rhode Island).\n",
    "PADD 1B: Centro Atlántico (Nueva York, Nueva Jersey, Pensilvania, Delaware, Maryland, Washington D.C.).\n",
    "PADD 1C: Sureste (Virginia, Carolina del Norte, Carolina del Sur, Georgia, Florida).\n",
    "\n",
    "Otros PADDs:\n",
    "\n",
    "PADD 2: El Medio Oeste (desde Ohio hasta Dakota del Norte).\n",
    "PADD 3: La Costa del Golfo (Texas, Luisiana, Mississippi, Alabama, Nuevo México).\n",
    "PADD 4: Montaña (desde Wyoming hasta Montana, incluyendo Colorado).\n",
    "PADD 5: Costa Oeste (California, Nevada, Oregón, Washington, Alaska, Hawái).\n",
    "PADD 5 EXCEPT CALIFORNIA: Esto excluye específicamente a California dentro del PADD 5.\n",
    "\n",
    "\n",
    "### 2. Estados y ciudades (Texas, New York, Denver, etc.):\n",
    "Descripción: Algunas de las áreas mencionadas son estados individuales, como TEXAS, COLORADO, MINNESOTA, o OHIO, y otras son ciudades específicas, como DENVER, LOS ANGELES, CHICAGO, y HOUSTON.\n",
    "Diferencias entre ciudades y estados: Por ejemplo:\n",
    "\n",
    "New York se refiere al estado de Nueva York, mientras que New York City es la ciudad específica dentro de ese estado.\n",
    "Esto es similar para otras combinaciones como SAN FRANCISCO (ciudad) y CALIFORNIA (estado)."
   ]
  },
  {
   "cell_type": "markdown",
   "metadata": {},
   "source": [
    "## Product"
   ]
  },
  {
   "cell_type": "code",
   "execution_count": 12,
   "metadata": {},
   "outputs": [
    {
     "data": {
      "text/plain": [
       "product\n",
       "EPM0        97\n",
       "EPMM        96\n",
       "EPMP        94\n",
       "EPMR        91\n",
       "EPMMR       75\n",
       "EPMRR       74\n",
       "EPM0R       73\n",
       "EPMMU       69\n",
       "EPMPR       68\n",
       "EPMPU       66\n",
       "EPM0U       66\n",
       "EPMRU       64\n",
       "EPD2DXL0    34\n",
       "EPD2D       33\n",
       "Name: count, dtype: int64"
      ]
     },
     "execution_count": 12,
     "metadata": {},
     "output_type": "execute_result"
    }
   ],
   "source": [
    "df['product'].value_counts()"
   ]
  },
  {
   "cell_type": "code",
   "execution_count": 13,
   "metadata": {},
   "outputs": [
    {
     "data": {
      "text/plain": [
       "product-name\n",
       "Total Gasoline                       97\n",
       "Midgrade Gasoline                    96\n",
       "Premium Gasoline                     94\n",
       "Regular Gasoline                     91\n",
       "Gasoline Reformulated Midgrade       75\n",
       "Reformulated Regular Gasoline        74\n",
       "Reformulated Motor Gasoline          73\n",
       "Gasoline Conventional Midgrade       69\n",
       "Reformulated Premium Gasoline        68\n",
       "Conventional Premium Gasoline        66\n",
       "Conventional Gasoline (No Oxy)       66\n",
       "Conventional Regular Gasoline        64\n",
       "No 2 Diesel Low Sulfur (0-15 ppm)    34\n",
       "No 2 Diesel                          33\n",
       "Name: count, dtype: int64"
      ]
     },
     "execution_count": 13,
     "metadata": {},
     "output_type": "execute_result"
    }
   ],
   "source": [
    "df['product-name'].value_counts()"
   ]
  },
  {
   "cell_type": "markdown",
   "metadata": {},
   "source": [
    "Similar a duoarea y area... Pero en este caso propongo algunas transformaciones.\n",
    "\n",
    "Ya que product son codigos que repiten la información (solo que codificada) de product-name, se deberian reemplazar todos los codigos que hagan referencia a gasolina como \"Gasoline\""
   ]
  },
  {
   "cell_type": "markdown",
   "metadata": {},
   "source": [
    "## Process"
   ]
  },
  {
   "cell_type": "code",
   "execution_count": 14,
   "metadata": {},
   "outputs": [
    {
     "data": {
      "text/plain": [
       "process\n",
       "PTE    1000\n",
       "Name: count, dtype: int64"
      ]
     },
     "execution_count": 14,
     "metadata": {},
     "output_type": "execute_result"
    }
   ],
   "source": [
    "df['process'].value_counts()"
   ]
  },
  {
   "cell_type": "code",
   "execution_count": 15,
   "metadata": {},
   "outputs": [
    {
     "data": {
      "text/plain": [
       "process-name\n",
       "Retail Sales    1000\n",
       "Name: count, dtype: int64"
      ]
     },
     "execution_count": 15,
     "metadata": {},
     "output_type": "execute_result"
    }
   ],
   "source": [
    "df['process-name'].value_counts()"
   ]
  },
  {
   "cell_type": "markdown",
   "metadata": {},
   "source": [
    "Unico valor para todos los datos, como la API puede dar para el por mayor o para productos que no sean gasolina/diesel, debe tener esta columna... Por ahora nos resulta repetitiva"
   ]
  },
  {
   "cell_type": "markdown",
   "metadata": {},
   "source": [
    "## Series"
   ]
  },
  {
   "cell_type": "code",
   "execution_count": 18,
   "metadata": {},
   "outputs": [
    {
     "data": {
      "text/plain": [
       "series\n",
       "EMM_EPMR_PTE_SMN_DPG       4\n",
       "EMM_EPMRR_PTE_R50_DPG      4\n",
       "EMM_EPM0_PTE_YMIA_DPG      4\n",
       "EMM_EPM0R_PTE_Y05SF_DPG    4\n",
       "EMM_EPMM_PTE_SMA_DPG       4\n",
       "                          ..\n",
       "EMM_EPMPU_PTE_R30_DPG      3\n",
       "EMM_EPMPR_PTE_YBOS_DPG     3\n",
       "EMM_EPMP_PTE_Y05LA_DPG     3\n",
       "EMM_EPMP_PTE_SNY_DPG       3\n",
       "EMM_EPMRU_PTE_R40_DPG      3\n",
       "Name: count, Length: 310, dtype: int64"
      ]
     },
     "execution_count": 18,
     "metadata": {},
     "output_type": "execute_result"
    }
   ],
   "source": [
    "df['series'].value_counts()"
   ]
  },
  {
   "cell_type": "code",
   "execution_count": 17,
   "metadata": {},
   "outputs": [
    {
     "data": {
      "text/plain": [
       "series-description\n",
       "Minnesota Regular All Formulations Retail Gasoline Prices (Dollars per Gallon)           4\n",
       "West Coast Regular Reformulated Retail Gasoline Prices (Dollars per Gallon)              4\n",
       "Miami, FL All Grades All Formulations Retail Gasoline Prices (Dollars per Gallon)        4\n",
       "San Francisco, CA All Grades Reformulated Retail Gasoline Prices (Dollars per Gallon)    4\n",
       "Massachusetts Midgrade All Formulations Retail Gasoline Prices (Dollars per Gallon)      4\n",
       "                                                                                        ..\n",
       "Gulf Coast Premium Conventional Retail Gasoline Prices (Dollars per Gallon)              3\n",
       "Boston, MA Premium Reformulated Retail Gasoline Prices (Dollars per Gallon)              3\n",
       "Los Angeles Premium All Formulations Retail Gasoline Prices (Dollars per Gallon)         3\n",
       "New York Premium All Formulations Retail Gasoline Prices (Dollars per Gallon)            3\n",
       "Rocky Mountain Regular Conventional Retail Gasoline Prices (Dollars per Gallon)          3\n",
       "Name: count, Length: 310, dtype: int64"
      ]
     },
     "execution_count": 17,
     "metadata": {},
     "output_type": "execute_result"
    }
   ],
   "source": [
    "df['series-description'].value_counts()"
   ]
  },
  {
   "cell_type": "markdown",
   "metadata": {},
   "source": [
    "Todavia no estoy seguro si estas columnas se van o se quedan, repiten (y compilan) mucha información; pero es curioso que por ejemplo no veo ningún \"Total gasoline\", sino que al parecer están expresadas de otras formas. No la borraré hasta que la haya analizado un poco más... "
   ]
  },
  {
   "cell_type": "markdown",
   "metadata": {},
   "source": [
    "## Prices"
   ]
  },
  {
   "cell_type": "code",
   "execution_count": 19,
   "metadata": {},
   "outputs": [
    {
     "data": {
      "text/plain": [
       "value\n",
       "3.118    7\n",
       "3.844    6\n",
       "3.818    5\n",
       "3.105    5\n",
       "3.093    5\n",
       "        ..\n",
       "4.766    1\n",
       "4.078    1\n",
       "4.654    1\n",
       "3.995    1\n",
       "3.071    1\n",
       "Name: count, Length: 589, dtype: int64"
      ]
     },
     "execution_count": 19,
     "metadata": {},
     "output_type": "execute_result"
    }
   ],
   "source": [
    "df['value'].value_counts()"
   ]
  },
  {
   "cell_type": "code",
   "execution_count": 20,
   "metadata": {},
   "outputs": [
    {
     "data": {
      "text/plain": [
       "units\n",
       "$/GAL    1000\n",
       "Name: count, dtype: int64"
      ]
     },
     "execution_count": 20,
     "metadata": {},
     "output_type": "execute_result"
    }
   ],
   "source": [
    "df['units'].value_counts()"
   ]
  },
  {
   "cell_type": "markdown",
   "metadata": {},
   "source": [
    "Ya sabemos que es Dolares por galón, por lo que podriamos eliminar units y cambiar el nombre de value a algo como \"Value ($/GAL)\" y que en la misma columna se entienda que son dolares por galones... Pero en caso de que se fueran a juntar con fuentes por fuera de USA, si seria importante guardar la columna"
   ]
  }
 ],
 "metadata": {
  "kernelspec": {
   "display_name": "env",
   "language": "python",
   "name": "python3"
  },
  "language_info": {
   "codemirror_mode": {
    "name": "ipython",
    "version": 3
   },
   "file_extension": ".py",
   "mimetype": "text/x-python",
   "name": "python",
   "nbconvert_exporter": "python",
   "pygments_lexer": "ipython3",
   "version": "3.12.6"
  }
 },
 "nbformat": 4,
 "nbformat_minor": 2
}
