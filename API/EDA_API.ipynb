{
 "cells": [
  {
   "cell_type": "code",
   "execution_count": 2,
   "metadata": {},
   "outputs": [
    {
     "name": "stderr",
     "output_type": "stream",
     "text": [
      "Matplotlib is building the font cache; this may take a moment.\n"
     ]
    }
   ],
   "source": [
    "import pandas as pd\n",
    "import numpy as np\n",
    "import matplotlib.pyplot as plt\n",
    "from sqlalchemy import create_engine, inspect\n",
    "from dotenv import load_dotenv\n",
    "import os"
   ]
  },
  {
   "cell_type": "code",
   "execution_count": 4,
   "metadata": {},
   "outputs": [
    {
     "data": {
      "text/html": [
       "<div>\n",
       "<style scoped>\n",
       "    .dataframe tbody tr th:only-of-type {\n",
       "        vertical-align: middle;\n",
       "    }\n",
       "\n",
       "    .dataframe tbody tr th {\n",
       "        vertical-align: top;\n",
       "    }\n",
       "\n",
       "    .dataframe thead th {\n",
       "        text-align: right;\n",
       "    }\n",
       "</style>\n",
       "<table border=\"1\" class=\"dataframe\">\n",
       "  <thead>\n",
       "    <tr style=\"text-align: right;\">\n",
       "      <th></th>\n",
       "      <th>period</th>\n",
       "      <th>duoarea</th>\n",
       "      <th>area-name</th>\n",
       "      <th>product</th>\n",
       "      <th>product-name</th>\n",
       "      <th>process</th>\n",
       "      <th>process-name</th>\n",
       "      <th>series</th>\n",
       "      <th>series-description</th>\n",
       "      <th>value</th>\n",
       "      <th>units</th>\n",
       "    </tr>\n",
       "  </thead>\n",
       "  <tbody>\n",
       "    <tr>\n",
       "      <th>0</th>\n",
       "      <td>2024-09-30</td>\n",
       "      <td>R30</td>\n",
       "      <td>PADD 3</td>\n",
       "      <td>EPM0</td>\n",
       "      <td>Total Gasoline</td>\n",
       "      <td>PTE</td>\n",
       "      <td>Retail Sales</td>\n",
       "      <td>EMM_EPM0_PTE_R30_DPG</td>\n",
       "      <td>Gulf Coast All Grades All Formulations Retail ...</td>\n",
       "      <td>2.793</td>\n",
       "      <td>$/GAL</td>\n",
       "    </tr>\n",
       "    <tr>\n",
       "      <th>1</th>\n",
       "      <td>2024-09-30</td>\n",
       "      <td>R10</td>\n",
       "      <td>PADD 1</td>\n",
       "      <td>EPD2D</td>\n",
       "      <td>No 2 Diesel</td>\n",
       "      <td>PTE</td>\n",
       "      <td>Retail Sales</td>\n",
       "      <td>EMD_EPD2D_PTE_R10_DPG</td>\n",
       "      <td>East Coast No 2 Diesel Retail Prices (Dollars ...</td>\n",
       "      <td>3.571</td>\n",
       "      <td>$/GAL</td>\n",
       "    </tr>\n",
       "    <tr>\n",
       "      <th>2</th>\n",
       "      <td>2024-09-30</td>\n",
       "      <td>R5XCA</td>\n",
       "      <td>PADD 5 EXCEPT CALIFORNIA</td>\n",
       "      <td>EPD2D</td>\n",
       "      <td>No 2 Diesel</td>\n",
       "      <td>PTE</td>\n",
       "      <td>Retail Sales</td>\n",
       "      <td>EMD_EPD2D_PTE_R5XCA_DPG</td>\n",
       "      <td>West Coast (PADD 5) Except California No 2 Die...</td>\n",
       "      <td>3.797</td>\n",
       "      <td>$/GAL</td>\n",
       "    </tr>\n",
       "    <tr>\n",
       "      <th>3</th>\n",
       "      <td>2024-09-30</td>\n",
       "      <td>R40</td>\n",
       "      <td>PADD 4</td>\n",
       "      <td>EPMRU</td>\n",
       "      <td>Conventional Regular Gasoline</td>\n",
       "      <td>PTE</td>\n",
       "      <td>Retail Sales</td>\n",
       "      <td>EMM_EPMRU_PTE_R40_DPG</td>\n",
       "      <td>Rocky Mountain Regular Conventional Retail Gas...</td>\n",
       "      <td>3.421</td>\n",
       "      <td>$/GAL</td>\n",
       "    </tr>\n",
       "    <tr>\n",
       "      <th>4</th>\n",
       "      <td>2024-09-30</td>\n",
       "      <td>R1X</td>\n",
       "      <td>PADD 1A</td>\n",
       "      <td>EPMRU</td>\n",
       "      <td>Conventional Regular Gasoline</td>\n",
       "      <td>PTE</td>\n",
       "      <td>Retail Sales</td>\n",
       "      <td>EMM_EPMRU_PTE_R1X_DPG</td>\n",
       "      <td>New England (PADD 1A) Regular Conventional Ret...</td>\n",
       "      <td>3.058</td>\n",
       "      <td>$/GAL</td>\n",
       "    </tr>\n",
       "  </tbody>\n",
       "</table>\n",
       "</div>"
      ],
      "text/plain": [
       "       period duoarea                 area-name product  \\\n",
       "0  2024-09-30     R30                    PADD 3    EPM0   \n",
       "1  2024-09-30     R10                    PADD 1   EPD2D   \n",
       "2  2024-09-30   R5XCA  PADD 5 EXCEPT CALIFORNIA   EPD2D   \n",
       "3  2024-09-30     R40                    PADD 4   EPMRU   \n",
       "4  2024-09-30     R1X                   PADD 1A   EPMRU   \n",
       "\n",
       "                    product-name process  process-name  \\\n",
       "0                 Total Gasoline     PTE  Retail Sales   \n",
       "1                    No 2 Diesel     PTE  Retail Sales   \n",
       "2                    No 2 Diesel     PTE  Retail Sales   \n",
       "3  Conventional Regular Gasoline     PTE  Retail Sales   \n",
       "4  Conventional Regular Gasoline     PTE  Retail Sales   \n",
       "\n",
       "                    series                                 series-description  \\\n",
       "0     EMM_EPM0_PTE_R30_DPG  Gulf Coast All Grades All Formulations Retail ...   \n",
       "1    EMD_EPD2D_PTE_R10_DPG  East Coast No 2 Diesel Retail Prices (Dollars ...   \n",
       "2  EMD_EPD2D_PTE_R5XCA_DPG  West Coast (PADD 5) Except California No 2 Die...   \n",
       "3    EMM_EPMRU_PTE_R40_DPG  Rocky Mountain Regular Conventional Retail Gas...   \n",
       "4    EMM_EPMRU_PTE_R1X_DPG  New England (PADD 1A) Regular Conventional Ret...   \n",
       "\n",
       "   value  units  \n",
       "0  2.793  $/GAL  \n",
       "1  3.571  $/GAL  \n",
       "2  3.797  $/GAL  \n",
       "3  3.421  $/GAL  \n",
       "4  3.058  $/GAL  "
      ]
     },
     "execution_count": 4,
     "metadata": {},
     "output_type": "execute_result"
    }
   ],
   "source": [
    "df = pd.read_csv(\"../Data/raw/petroleum_raw.csv\", delimiter=',',encoding='unicode_escape')\n",
    "df.head()"
   ]
  },
  {
   "cell_type": "code",
   "execution_count": 5,
   "metadata": {},
   "outputs": [
    {
     "name": "stdout",
     "output_type": "stream",
     "text": [
      "<class 'pandas.core.frame.DataFrame'>\n",
      "RangeIndex: 1000 entries, 0 to 999\n",
      "Data columns (total 11 columns):\n",
      " #   Column              Non-Null Count  Dtype  \n",
      "---  ------              --------------  -----  \n",
      " 0   period              1000 non-null   object \n",
      " 1   duoarea             1000 non-null   object \n",
      " 2   area-name           1000 non-null   object \n",
      " 3   product             1000 non-null   object \n",
      " 4   product-name        1000 non-null   object \n",
      " 5   process             1000 non-null   object \n",
      " 6   process-name        1000 non-null   object \n",
      " 7   series              1000 non-null   object \n",
      " 8   series-description  1000 non-null   object \n",
      " 9   value               988 non-null    float64\n",
      " 10  units               1000 non-null   object \n",
      "dtypes: float64(1), object(10)\n",
      "memory usage: 86.1+ KB\n"
     ]
    }
   ],
   "source": [
    "df.info()"
   ]
  },
  {
   "cell_type": "code",
   "execution_count": 6,
   "metadata": {},
   "outputs": [],
   "source": [
    "numerical_summary = df.describe()\n",
    "numerical_summary"
   ]
  }
 ],
 "metadata": {
  "kernelspec": {
   "display_name": "env",
   "language": "python",
   "name": "python3"
  },
  "language_info": {
   "codemirror_mode": {
    "name": "ipython",
    "version": 3
   },
   "file_extension": ".py",
   "mimetype": "text/x-python",
   "name": "python",
   "nbconvert_exporter": "python",
   "pygments_lexer": "ipython3",
   "version": "3.12.6"
  }
 },
 "nbformat": 4,
 "nbformat_minor": 2
}
