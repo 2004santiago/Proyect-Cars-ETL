{
 "cells": [
  {
   "cell_type": "code",
   "execution_count": 2,
   "metadata": {},
   "outputs": [],
   "source": [
    "import pandas as pd\n",
    "import numpy as np\n",
    "import matplotlib.pyplot as plt\n",
    "from sqlalchemy import create_engine, inspect\n",
    "from dotenv import load_dotenv\n",
    "import os"
   ]
  },
  {
   "cell_type": "code",
   "execution_count": 2,
   "metadata": {},
   "outputs": [
    {
     "data": {
      "text/html": [
       "<div>\n",
       "<style scoped>\n",
       "    .dataframe tbody tr th:only-of-type {\n",
       "        vertical-align: middle;\n",
       "    }\n",
       "\n",
       "    .dataframe tbody tr th {\n",
       "        vertical-align: top;\n",
       "    }\n",
       "\n",
       "    .dataframe thead th {\n",
       "        text-align: right;\n",
       "    }\n",
       "</style>\n",
       "<table border=\"1\" class=\"dataframe\">\n",
       "  <thead>\n",
       "    <tr style=\"text-align: right;\">\n",
       "      <th></th>\n",
       "      <th>period</th>\n",
       "      <th>duoarea</th>\n",
       "      <th>area-name</th>\n",
       "      <th>product</th>\n",
       "      <th>product-name</th>\n",
       "      <th>process</th>\n",
       "      <th>process-name</th>\n",
       "      <th>series</th>\n",
       "      <th>series-description</th>\n",
       "      <th>value</th>\n",
       "      <th>units</th>\n",
       "    </tr>\n",
       "  </thead>\n",
       "  <tbody>\n",
       "    <tr>\n",
       "      <th>0</th>\n",
       "      <td>2024-09-30</td>\n",
       "      <td>R30</td>\n",
       "      <td>PADD 3</td>\n",
       "      <td>EPM0</td>\n",
       "      <td>Total Gasoline</td>\n",
       "      <td>PTE</td>\n",
       "      <td>Retail Sales</td>\n",
       "      <td>EMM_EPM0_PTE_R30_DPG</td>\n",
       "      <td>Gulf Coast All Grades All Formulations Retail ...</td>\n",
       "      <td>2.793</td>\n",
       "      <td>$/GAL</td>\n",
       "    </tr>\n",
       "    <tr>\n",
       "      <th>1</th>\n",
       "      <td>2024-09-30</td>\n",
       "      <td>R10</td>\n",
       "      <td>PADD 1</td>\n",
       "      <td>EPD2D</td>\n",
       "      <td>No 2 Diesel</td>\n",
       "      <td>PTE</td>\n",
       "      <td>Retail Sales</td>\n",
       "      <td>EMD_EPD2D_PTE_R10_DPG</td>\n",
       "      <td>East Coast No 2 Diesel Retail Prices (Dollars ...</td>\n",
       "      <td>3.571</td>\n",
       "      <td>$/GAL</td>\n",
       "    </tr>\n",
       "    <tr>\n",
       "      <th>2</th>\n",
       "      <td>2024-09-30</td>\n",
       "      <td>R5XCA</td>\n",
       "      <td>PADD 5 EXCEPT CALIFORNIA</td>\n",
       "      <td>EPD2D</td>\n",
       "      <td>No 2 Diesel</td>\n",
       "      <td>PTE</td>\n",
       "      <td>Retail Sales</td>\n",
       "      <td>EMD_EPD2D_PTE_R5XCA_DPG</td>\n",
       "      <td>West Coast (PADD 5) Except California No 2 Die...</td>\n",
       "      <td>3.797</td>\n",
       "      <td>$/GAL</td>\n",
       "    </tr>\n",
       "    <tr>\n",
       "      <th>3</th>\n",
       "      <td>2024-09-30</td>\n",
       "      <td>R40</td>\n",
       "      <td>PADD 4</td>\n",
       "      <td>EPMRU</td>\n",
       "      <td>Conventional Regular Gasoline</td>\n",
       "      <td>PTE</td>\n",
       "      <td>Retail Sales</td>\n",
       "      <td>EMM_EPMRU_PTE_R40_DPG</td>\n",
       "      <td>Rocky Mountain Regular Conventional Retail Gas...</td>\n",
       "      <td>3.421</td>\n",
       "      <td>$/GAL</td>\n",
       "    </tr>\n",
       "    <tr>\n",
       "      <th>4</th>\n",
       "      <td>2024-09-30</td>\n",
       "      <td>R1X</td>\n",
       "      <td>PADD 1A</td>\n",
       "      <td>EPMRU</td>\n",
       "      <td>Conventional Regular Gasoline</td>\n",
       "      <td>PTE</td>\n",
       "      <td>Retail Sales</td>\n",
       "      <td>EMM_EPMRU_PTE_R1X_DPG</td>\n",
       "      <td>New England (PADD 1A) Regular Conventional Ret...</td>\n",
       "      <td>3.058</td>\n",
       "      <td>$/GAL</td>\n",
       "    </tr>\n",
       "  </tbody>\n",
       "</table>\n",
       "</div>"
      ],
      "text/plain": [
       "       period duoarea                 area-name product  \\\n",
       "0  2024-09-30     R30                    PADD 3    EPM0   \n",
       "1  2024-09-30     R10                    PADD 1   EPD2D   \n",
       "2  2024-09-30   R5XCA  PADD 5 EXCEPT CALIFORNIA   EPD2D   \n",
       "3  2024-09-30     R40                    PADD 4   EPMRU   \n",
       "4  2024-09-30     R1X                   PADD 1A   EPMRU   \n",
       "\n",
       "                    product-name process  process-name  \\\n",
       "0                 Total Gasoline     PTE  Retail Sales   \n",
       "1                    No 2 Diesel     PTE  Retail Sales   \n",
       "2                    No 2 Diesel     PTE  Retail Sales   \n",
       "3  Conventional Regular Gasoline     PTE  Retail Sales   \n",
       "4  Conventional Regular Gasoline     PTE  Retail Sales   \n",
       "\n",
       "                    series                                 series-description  \\\n",
       "0     EMM_EPM0_PTE_R30_DPG  Gulf Coast All Grades All Formulations Retail ...   \n",
       "1    EMD_EPD2D_PTE_R10_DPG  East Coast No 2 Diesel Retail Prices (Dollars ...   \n",
       "2  EMD_EPD2D_PTE_R5XCA_DPG  West Coast (PADD 5) Except California No 2 Die...   \n",
       "3    EMM_EPMRU_PTE_R40_DPG  Rocky Mountain Regular Conventional Retail Gas...   \n",
       "4    EMM_EPMRU_PTE_R1X_DPG  New England (PADD 1A) Regular Conventional Ret...   \n",
       "\n",
       "   value  units  \n",
       "0  2.793  $/GAL  \n",
       "1  3.571  $/GAL  \n",
       "2  3.797  $/GAL  \n",
       "3  3.421  $/GAL  \n",
       "4  3.058  $/GAL  "
      ]
     },
     "execution_count": 2,
     "metadata": {},
     "output_type": "execute_result"
    }
   ],
   "source": [
    "df = pd.read_csv(\"../Data/Raws/petroleum.csv\", delimiter=',',encoding='unicode_escape')\n",
    "df.head()"
   ]
  },
  {
   "cell_type": "code",
   "execution_count": 3,
   "metadata": {},
   "outputs": [
    {
     "name": "stdout",
     "output_type": "stream",
     "text": [
      "<class 'pandas.core.frame.DataFrame'>\n",
      "RangeIndex: 1000 entries, 0 to 999\n",
      "Data columns (total 11 columns):\n",
      " #   Column              Non-Null Count  Dtype  \n",
      "---  ------              --------------  -----  \n",
      " 0   period              1000 non-null   object \n",
      " 1   duoarea             1000 non-null   object \n",
      " 2   area-name           1000 non-null   object \n",
      " 3   product             1000 non-null   object \n",
      " 4   product-name        1000 non-null   object \n",
      " 5   process             1000 non-null   object \n",
      " 6   process-name        1000 non-null   object \n",
      " 7   series              1000 non-null   object \n",
      " 8   series-description  1000 non-null   object \n",
      " 9   value               988 non-null    float64\n",
      " 10  units               1000 non-null   object \n",
      "dtypes: float64(1), object(10)\n",
      "memory usage: 86.1+ KB\n"
     ]
    }
   ],
   "source": [
    "df.info()"
   ]
  },
  {
   "cell_type": "code",
   "execution_count": 4,
   "metadata": {},
   "outputs": [
    {
     "data": {
      "text/html": [
       "<div>\n",
       "<style scoped>\n",
       "    .dataframe tbody tr th:only-of-type {\n",
       "        vertical-align: middle;\n",
       "    }\n",
       "\n",
       "    .dataframe tbody tr th {\n",
       "        vertical-align: top;\n",
       "    }\n",
       "\n",
       "    .dataframe thead th {\n",
       "        text-align: right;\n",
       "    }\n",
       "</style>\n",
       "<table border=\"1\" class=\"dataframe\">\n",
       "  <thead>\n",
       "    <tr style=\"text-align: right;\">\n",
       "      <th></th>\n",
       "      <th>value</th>\n",
       "    </tr>\n",
       "  </thead>\n",
       "  <tbody>\n",
       "    <tr>\n",
       "      <th>count</th>\n",
       "      <td>988.000000</td>\n",
       "    </tr>\n",
       "    <tr>\n",
       "      <th>mean</th>\n",
       "      <td>3.695623</td>\n",
       "    </tr>\n",
       "    <tr>\n",
       "      <th>std</th>\n",
       "      <td>0.563167</td>\n",
       "    </tr>\n",
       "    <tr>\n",
       "      <th>min</th>\n",
       "      <td>2.605000</td>\n",
       "    </tr>\n",
       "    <tr>\n",
       "      <th>25%</th>\n",
       "      <td>3.239500</td>\n",
       "    </tr>\n",
       "    <tr>\n",
       "      <th>50%</th>\n",
       "      <td>3.612000</td>\n",
       "    </tr>\n",
       "    <tr>\n",
       "      <th>75%</th>\n",
       "      <td>4.053500</td>\n",
       "    </tr>\n",
       "    <tr>\n",
       "      <th>max</th>\n",
       "      <td>5.395000</td>\n",
       "    </tr>\n",
       "  </tbody>\n",
       "</table>\n",
       "</div>"
      ],
      "text/plain": [
       "            value\n",
       "count  988.000000\n",
       "mean     3.695623\n",
       "std      0.563167\n",
       "min      2.605000\n",
       "25%      3.239500\n",
       "50%      3.612000\n",
       "75%      4.053500\n",
       "max      5.395000"
      ]
     },
     "execution_count": 4,
     "metadata": {},
     "output_type": "execute_result"
    }
   ],
   "source": [
    "#Numerical summary (Only value)\n",
    "numerical_summary = df.describe()\n",
    "numerical_summary"
   ]
  },
  {
   "cell_type": "code",
   "execution_count": 5,
   "metadata": {},
   "outputs": [
    {
     "data": {
      "text/html": [
       "<div>\n",
       "<style scoped>\n",
       "    .dataframe tbody tr th:only-of-type {\n",
       "        vertical-align: middle;\n",
       "    }\n",
       "\n",
       "    .dataframe tbody tr th {\n",
       "        vertical-align: top;\n",
       "    }\n",
       "\n",
       "    .dataframe thead th {\n",
       "        text-align: right;\n",
       "    }\n",
       "</style>\n",
       "<table border=\"1\" class=\"dataframe\">\n",
       "  <thead>\n",
       "    <tr style=\"text-align: right;\">\n",
       "      <th></th>\n",
       "      <th>period</th>\n",
       "      <th>duoarea</th>\n",
       "      <th>area-name</th>\n",
       "      <th>product</th>\n",
       "      <th>product-name</th>\n",
       "      <th>process</th>\n",
       "      <th>process-name</th>\n",
       "      <th>series</th>\n",
       "      <th>series-description</th>\n",
       "      <th>units</th>\n",
       "    </tr>\n",
       "  </thead>\n",
       "  <tbody>\n",
       "    <tr>\n",
       "      <th>count</th>\n",
       "      <td>1000</td>\n",
       "      <td>1000</td>\n",
       "      <td>1000</td>\n",
       "      <td>1000</td>\n",
       "      <td>1000</td>\n",
       "      <td>1000</td>\n",
       "      <td>1000</td>\n",
       "      <td>1000</td>\n",
       "      <td>1000</td>\n",
       "      <td>1000</td>\n",
       "    </tr>\n",
       "    <tr>\n",
       "      <th>unique</th>\n",
       "      <td>4</td>\n",
       "      <td>29</td>\n",
       "      <td>29</td>\n",
       "      <td>14</td>\n",
       "      <td>14</td>\n",
       "      <td>1</td>\n",
       "      <td>1</td>\n",
       "      <td>310</td>\n",
       "      <td>310</td>\n",
       "      <td>1</td>\n",
       "    </tr>\n",
       "    <tr>\n",
       "      <th>top</th>\n",
       "      <td>2024-09-30</td>\n",
       "      <td>R5XCA</td>\n",
       "      <td>PADD 5 EXCEPT CALIFORNIA</td>\n",
       "      <td>EPM0</td>\n",
       "      <td>Total Gasoline</td>\n",
       "      <td>PTE</td>\n",
       "      <td>Retail Sales</td>\n",
       "      <td>EMM_EPM0_PTE_R30_DPG</td>\n",
       "      <td>Gulf Coast All Grades All Formulations Retail ...</td>\n",
       "      <td>$/GAL</td>\n",
       "    </tr>\n",
       "    <tr>\n",
       "      <th>freq</th>\n",
       "      <td>310</td>\n",
       "      <td>46</td>\n",
       "      <td>46</td>\n",
       "      <td>97</td>\n",
       "      <td>97</td>\n",
       "      <td>1000</td>\n",
       "      <td>1000</td>\n",
       "      <td>4</td>\n",
       "      <td>4</td>\n",
       "      <td>1000</td>\n",
       "    </tr>\n",
       "  </tbody>\n",
       "</table>\n",
       "</div>"
      ],
      "text/plain": [
       "            period duoarea                 area-name product    product-name  \\\n",
       "count         1000    1000                      1000    1000            1000   \n",
       "unique           4      29                        29      14              14   \n",
       "top     2024-09-30   R5XCA  PADD 5 EXCEPT CALIFORNIA    EPM0  Total Gasoline   \n",
       "freq           310      46                        46      97              97   \n",
       "\n",
       "       process  process-name                series  \\\n",
       "count     1000          1000                  1000   \n",
       "unique       1             1                   310   \n",
       "top        PTE  Retail Sales  EMM_EPM0_PTE_R30_DPG   \n",
       "freq      1000          1000                     4   \n",
       "\n",
       "                                       series-description  units  \n",
       "count                                                1000   1000  \n",
       "unique                                                310      1  \n",
       "top     Gulf Coast All Grades All Formulations Retail ...  $/GAL  \n",
       "freq                                                    4   1000  "
      ]
     },
     "execution_count": 5,
     "metadata": {},
     "output_type": "execute_result"
    }
   ],
   "source": [
    "#Categorical summary\n",
    "categorical_summary = df.describe(include=['object'])\n",
    "categorical_summary"
   ]
  },
  {
   "cell_type": "markdown",
   "metadata": {},
   "source": [
    "# Columns\n",
    "View the value count of each dataframe columm"
   ]
  },
  {
   "cell_type": "markdown",
   "metadata": {},
   "source": [
    "## Period\n",
    "Date of the row"
   ]
  },
  {
   "cell_type": "code",
   "execution_count": 6,
   "metadata": {},
   "outputs": [
    {
     "data": {
      "text/plain": [
       "period\n",
       "2024-09-30    310\n",
       "2024-09-23    310\n",
       "2024-09-16    310\n",
       "2024-09-09     70\n",
       "Name: count, dtype: int64"
      ]
     },
     "execution_count": 6,
     "metadata": {},
     "output_type": "execute_result"
    }
   ],
   "source": [
    "df['period'].value_counts()"
   ]
  },
  {
   "cell_type": "markdown",
   "metadata": {},
   "source": [
    "Only four periods available, in this case, 310 rows for all cases except 2024-09-09. This column is considered an object, so a transformation to date is necessary."
   ]
  },
  {
   "cell_type": "markdown",
   "metadata": {},
   "source": [
    "## Duoarea and Area-name\n",
    "Related columns about location"
   ]
  },
  {
   "cell_type": "code",
   "execution_count": 7,
   "metadata": {},
   "outputs": [
    {
     "data": {
      "text/plain": [
       "duoarea\n",
       "R5XCA    46\n",
       "R40      46\n",
       "R20      46\n",
       "R30      45\n",
       "R1Z      45\n",
       "R50      45\n",
       "NUS      44\n",
       "R1Y      44\n",
       "R1X      44\n",
       "R10      42\n",
       "STX      39\n",
       "SCO      38\n",
       "YDEN     38\n",
       "SNY      38\n",
       "SCA      32\n",
       "YMIA     28\n",
       "Y35NY    28\n",
       "Y05SF    28\n",
       "YCLE     28\n",
       "Y48SE    27\n",
       "YORD     27\n",
       "Y44HO    27\n",
       "SMN      26\n",
       "Y05LA    26\n",
       "SMA      25\n",
       "SFL      25\n",
       "SWA      25\n",
       "YBOS     24\n",
       "SOH      24\n",
       "Name: count, dtype: int64"
      ]
     },
     "execution_count": 7,
     "metadata": {},
     "output_type": "execute_result"
    }
   ],
   "source": [
    "df['duoarea'].value_counts()"
   ]
  },
  {
   "cell_type": "markdown",
   "metadata": {},
   "source": [
    "For duoarea, it seems that these are codes representing the zone.\n",
    "\n",
    "The code \"R5XCA\" has an associated value of 46, which matches the area \"PADD 5 EXCEPT CALIFORNIA\" in the \"area-name\" column.\n",
    "Some possibilities we can think of to decipher this (or make sense of it) are: \n",
    "- R5 = PADD 5 \n",
    "- X = EXCEPT, \n",
    "- CA = CALIFORNIA\n",
    "\n",
    "This pattern repeats with other codes and their respective area names.\n",
    "For example:\n",
    "R50 = 45 <-> PADD 5 = 45"
   ]
  },
  {
   "cell_type": "code",
   "execution_count": 8,
   "metadata": {},
   "outputs": [
    {
     "data": {
      "text/plain": [
       "area-name\n",
       "PADD 5 EXCEPT CALIFORNIA    46\n",
       "PADD 4                      46\n",
       "PADD 2                      46\n",
       "PADD 3                      45\n",
       "PADD 1C                     45\n",
       "PADD 5                      45\n",
       "U.S.                        44\n",
       "PADD 1B                     44\n",
       "PADD 1A                     44\n",
       "PADD 1                      42\n",
       "TEXAS                       39\n",
       "COLORADO                    38\n",
       "DENVER                      38\n",
       "NEW YORK                    38\n",
       "CALIFORNIA                  32\n",
       "MIAMI                       28\n",
       "NEW YORK CITY               28\n",
       "SAN FRANCISCO               28\n",
       "CLEVELAND                   28\n",
       "SEATTLE                     27\n",
       "CHICAGO                     27\n",
       "HOUSTON                     27\n",
       "MINNESOTA                   26\n",
       "LOS ANGELES                 26\n",
       "MASSACHUSETTS               25\n",
       "FLORIDA                     25\n",
       "WASHINGTON                  25\n",
       "BOSTON                      24\n",
       "OHIO                        24\n",
       "Name: count, dtype: int64"
      ]
     },
     "execution_count": 8,
     "metadata": {},
     "output_type": "execute_result"
    }
   ],
   "source": [
    "df['area-name'].value_counts()"
   ]
  },
  {
   "cell_type": "markdown",
   "metadata": {},
   "source": [
    "## Considerations for this column:\n",
    "\n",
    "### 1. PADD (Petroleum Administration for Defense Districts):\n",
    "**Description**: PADDs are geographical divisions used by the U.S. Energy Information Administration (EIA) to track petroleum supply and distribution data. These areas were originally created during World War II to coordinate petroleum supply.\n",
    "\n",
    "**PADD 1, 1A, 1B, 1C**: PADD 1 covers the East Coast of the U.S. and is subdivided into 3 areas:\n",
    "- **PADD 1A**: New England (Maine, Vermont, New Hampshire, Massachusetts, Connecticut, Rhode Island).\n",
    "- **PADD 1B**: Central Atlantic (New York, New Jersey, Pennsylvania, Delaware, Maryland, Washington D.C.).\n",
    "- **PADD 1C**: Southeast (Virginia, North Carolina, South Carolina, Georgia, Florida).\n",
    "\n",
    "**Other PADDs**:\n",
    "- **PADD 2**: Midwest (from Ohio to North Dakota).\n",
    "- **PADD 3**: Gulf Coast (Texas, Louisiana, Mississippi, Alabama, New Mexico).\n",
    "- **PADD 4**: Mountain (from Wyoming to Montana, including Colorado).\n",
    "- **PADD 5**: West Coast (California, Nevada, Oregon, Washington, Alaska, Hawaii).\n",
    "- **PADD 5 EXCEPT CALIFORNIA**: This specifically excludes California from PADD 5.\n",
    "\n",
    "### 2. States and Cities (Texas, New York, Denver, etc.):\n",
    "**Description**: Some of the mentioned areas are individual states, such as TEXAS, COLORADO, MINNESOTA, or OHIO, while others are specific cities, like DENVER, LOS ANGELES, CHICAGO, and HOUSTON.\n",
    "\n",
    "**Differences between cities and states**: For example:\n",
    "- New York refers to the state of New York, while New York City is the specific city within that state.\n",
    "- This is similar for other combinations like SAN FRANCISCO (city) and CALIFORNIA (state).\n",
    "\n",
    "\n",
    "### 3. U.S. value:\n",
    "**Description**: The value \"U.S.\" refers generally to all states. In other words, it means the record for the entire United States.\n",
    "\n",
    "\n",
    "## Transformation suggested:\n",
    "Since this information its repeated and clearer in \"area-name,\" we could consider removing this column and adding a new 'area' column to generalyze if the area is a city, state or region.\n"
   ]
  },
  {
   "cell_type": "markdown",
   "metadata": {},
   "source": [
    "## Product and Product-name"
   ]
  },
  {
   "cell_type": "code",
   "execution_count": 9,
   "metadata": {},
   "outputs": [
    {
     "data": {
      "text/plain": [
       "product\n",
       "EPM0        97\n",
       "EPMM        96\n",
       "EPMP        94\n",
       "EPMR        91\n",
       "EPMMR       75\n",
       "EPMRR       74\n",
       "EPM0R       73\n",
       "EPMMU       69\n",
       "EPMPR       68\n",
       "EPMPU       66\n",
       "EPM0U       66\n",
       "EPMRU       64\n",
       "EPD2DXL0    34\n",
       "EPD2D       33\n",
       "Name: count, dtype: int64"
      ]
     },
     "execution_count": 9,
     "metadata": {},
     "output_type": "execute_result"
    }
   ],
   "source": [
    "df['product'].value_counts()"
   ]
  },
  {
   "cell_type": "code",
   "execution_count": 10,
   "metadata": {},
   "outputs": [
    {
     "data": {
      "text/plain": [
       "product-name\n",
       "Total Gasoline                       97\n",
       "Midgrade Gasoline                    96\n",
       "Premium Gasoline                     94\n",
       "Regular Gasoline                     91\n",
       "Gasoline Reformulated Midgrade       75\n",
       "Reformulated Regular Gasoline        74\n",
       "Reformulated Motor Gasoline          73\n",
       "Gasoline Conventional Midgrade       69\n",
       "Reformulated Premium Gasoline        68\n",
       "Conventional Premium Gasoline        66\n",
       "Conventional Gasoline (No Oxy)       66\n",
       "Conventional Regular Gasoline        64\n",
       "No 2 Diesel Low Sulfur (0-15 ppm)    34\n",
       "No 2 Diesel                          33\n",
       "Name: count, dtype: int64"
      ]
     },
     "execution_count": 10,
     "metadata": {},
     "output_type": "execute_result"
    }
   ],
   "source": [
    "df['product-name'].value_counts()"
   ]
  },
  {
   "cell_type": "markdown",
   "metadata": {},
   "source": [
    "Similar to duoarea and area, I propose some transformations in this case:\n",
    "\n",
    "Since product codes repeat the information (just encoded) from product-name, all codes referring to gasoline should be replaced with \"Gasoline\" and the codes referring to diesel shoul be replaced with \"Diesel\" to be like a general way to know what type of product is."
   ]
  },
  {
   "cell_type": "markdown",
   "metadata": {},
   "source": [
    "## Process"
   ]
  },
  {
   "cell_type": "code",
   "execution_count": 11,
   "metadata": {},
   "outputs": [
    {
     "data": {
      "text/plain": [
       "process\n",
       "PTE    1000\n",
       "Name: count, dtype: int64"
      ]
     },
     "execution_count": 11,
     "metadata": {},
     "output_type": "execute_result"
    }
   ],
   "source": [
    "df['process'].value_counts()"
   ]
  },
  {
   "cell_type": "code",
   "execution_count": 12,
   "metadata": {},
   "outputs": [
    {
     "data": {
      "text/plain": [
       "process-name\n",
       "Retail Sales    1000\n",
       "Name: count, dtype: int64"
      ]
     },
     "execution_count": 12,
     "metadata": {},
     "output_type": "execute_result"
    }
   ],
   "source": [
    "df['process-name'].value_counts()"
   ]
  },
  {
   "cell_type": "markdown",
   "metadata": {},
   "source": [
    "Unique value in each column, because the API call requested information on retail petroleum sales. The API contains information related to electricity and other fuel sources, so it would be important to keep the column in case we expand in the future to also seek data on other fuels."
   ]
  },
  {
   "cell_type": "markdown",
   "metadata": {},
   "source": [
    "## Series"
   ]
  },
  {
   "cell_type": "code",
   "execution_count": 13,
   "metadata": {},
   "outputs": [
    {
     "data": {
      "text/plain": [
       "series\n",
       "EMM_EPM0_PTE_R30_DPG      4\n",
       "EMM_EPMMR_PTE_R40_DPG     4\n",
       "EMM_EPM0R_PTE_NUS_DPG     4\n",
       "EMM_EPM0U_PTE_SWA_DPG     4\n",
       "EMM_EPMM_PTE_Y35NY_DPG    4\n",
       "                         ..\n",
       "EMM_EPMMR_PTE_R10_DPG     3\n",
       "EMM_EPM0R_PTE_R1Z_DPG     3\n",
       "EMM_EPMM_PTE_Y05LA_DPG    3\n",
       "EMM_EPMM_PTE_R1Y_DPG      3\n",
       "EMM_EPM0_PTE_SFL_DPG      3\n",
       "Name: count, Length: 310, dtype: int64"
      ]
     },
     "execution_count": 13,
     "metadata": {},
     "output_type": "execute_result"
    }
   ],
   "source": [
    "df['series'].value_counts()"
   ]
  },
  {
   "cell_type": "code",
   "execution_count": 14,
   "metadata": {},
   "outputs": [
    {
     "data": {
      "text/plain": [
       "series-description\n",
       "Gulf Coast All Grades All Formulations Retail Gasoline Prices (Dollars per Gallon)                  4\n",
       "Rocky Mountain Midgrade Reformulated Retail Gasoline Prices (Dollars per Gallon)                    4\n",
       "U.S. All Grades Reformulated Retail Gasoline Prices (Dollars per Gallon)                            4\n",
       "Washington All Grades Conventional Retail Gasoline Prices (Dollars per Gallon)                      4\n",
       "New York City Midgrade All Formulations Retail Gasoline Prices (Dollars per Gallon)                 4\n",
       "                                                                                                   ..\n",
       "East Coast Midgrade Reformulated Retail Gasoline Prices (Dollars per Gallon)                        3\n",
       "Lower Atlantic (PADD 1C) All Grades Reformulated Retail Gasoline Prices (Dollars per Gallon)        3\n",
       "Los Angeles Midgrade All Formulations Retail Gasoline Prices (Dollars per Gallon)                   3\n",
       "Central Atlantic (PADD 1B) Midgrade All Formulations Retail Gasoline Prices (Dollars per Gallon)    3\n",
       "Florida All Grades All Formulations Retail Gasoline Prices (Dollars per Gallon)                     3\n",
       "Name: count, Length: 310, dtype: int64"
      ]
     },
     "execution_count": 14,
     "metadata": {},
     "output_type": "execute_result"
    }
   ],
   "source": [
    "df['series-description'].value_counts()"
   ]
  },
  {
   "cell_type": "markdown",
   "metadata": {},
   "source": [
    "\"Series\" is also a coding, in this case, for Series-name. We found that this column accurately groups what each record represents, combining information on area, product, and units. Series, like the other coded columns, is redundant and we can either remove it or assign it a different use."
   ]
  },
  {
   "cell_type": "markdown",
   "metadata": {},
   "source": [
    "## Prices"
   ]
  },
  {
   "cell_type": "code",
   "execution_count": 15,
   "metadata": {},
   "outputs": [
    {
     "data": {
      "text/plain": [
       "value\n",
       "3.118    7\n",
       "3.844    6\n",
       "3.105    5\n",
       "3.783    5\n",
       "3.093    5\n",
       "        ..\n",
       "3.386    1\n",
       "3.312    1\n",
       "3.027    1\n",
       "2.790    1\n",
       "2.877    1\n",
       "Name: count, Length: 589, dtype: int64"
      ]
     },
     "execution_count": 15,
     "metadata": {},
     "output_type": "execute_result"
    }
   ],
   "source": [
    "df['value'].value_counts()"
   ]
  },
  {
   "cell_type": "code",
   "execution_count": 16,
   "metadata": {},
   "outputs": [
    {
     "data": {
      "text/plain": [
       "units\n",
       "$/GAL    1000\n",
       "Name: count, dtype: int64"
      ]
     },
     "execution_count": 16,
     "metadata": {},
     "output_type": "execute_result"
    }
   ],
   "source": [
    "df['units'].value_counts()"
   ]
  },
  {
   "cell_type": "markdown",
   "metadata": {},
   "source": [
    "We already know that it refers to Dollars per gallon, so we could eliminate the units column and rename the value column to something like \"Value ($/GAL)\" to indicate that it represents dollars per gallon. However, if we were to merge this with sources outside of the USA, it would be important to keep the column."
   ]
  },
  {
   "cell_type": "markdown",
   "metadata": {},
   "source": [
    "# Transformations\n",
    "Lets start the transformations according what we find in the analysis"
   ]
  },
  {
   "cell_type": "markdown",
   "metadata": {},
   "source": [
    "### Drop / Rename columns"
   ]
  },
  {
   "cell_type": "code",
   "execution_count": 17,
   "metadata": {},
   "outputs": [
    {
     "name": "stdout",
     "output_type": "stream",
     "text": [
      "<class 'pandas.core.frame.DataFrame'>\n",
      "RangeIndex: 1000 entries, 0 to 999\n",
      "Data columns (total 8 columns):\n",
      " #   Column              Non-Null Count  Dtype  \n",
      "---  ------              --------------  -----  \n",
      " 0   period              1000 non-null   object \n",
      " 1   area-name           1000 non-null   object \n",
      " 2   product             1000 non-null   object \n",
      " 3   product-name        1000 non-null   object \n",
      " 4   process             1000 non-null   object \n",
      " 5   process-name        1000 non-null   object \n",
      " 6   series-description  1000 non-null   object \n",
      " 7   value($/GAL)        988 non-null    float64\n",
      "dtypes: float64(1), object(7)\n",
      "memory usage: 62.6+ KB\n",
      "None\n"
     ]
    }
   ],
   "source": [
    "#Drop columns\n",
    "drop_columns = ['duoarea', 'units', 'series']  \n",
    "df = df.drop(columns=drop_columns)\n",
    "\n",
    "#Rename columns (value)\n",
    "df = df.rename(columns={'value': 'value($/GAL)'})\n",
    "\n",
    "print(df.info())"
   ]
  },
  {
   "cell_type": "markdown",
   "metadata": {},
   "source": [
    "### Formats"
   ]
  },
  {
   "cell_type": "code",
   "execution_count": 18,
   "metadata": {},
   "outputs": [
    {
     "name": "stdout",
     "output_type": "stream",
     "text": [
      "<class 'pandas.core.frame.DataFrame'>\n",
      "RangeIndex: 1000 entries, 0 to 999\n",
      "Data columns (total 8 columns):\n",
      " #   Column              Non-Null Count  Dtype         \n",
      "---  ------              --------------  -----         \n",
      " 0   period              1000 non-null   datetime64[ns]\n",
      " 1   area-name           1000 non-null   string        \n",
      " 2   product             1000 non-null   string        \n",
      " 3   product-name        1000 non-null   string        \n",
      " 4   process             1000 non-null   string        \n",
      " 5   process-name        1000 non-null   string        \n",
      " 6   series-description  1000 non-null   string        \n",
      " 7   value($/GAL)        988 non-null    float64       \n",
      "dtypes: datetime64[ns](1), float64(1), string(6)\n",
      "memory usage: 62.6 KB\n",
      "None\n"
     ]
    }
   ],
   "source": [
    "#Correct the types:\n",
    "df['period'] = pd.to_datetime(df['period'], format='%Y-%m-%d') #Object to date\n",
    "df = df.astype({col: 'string' for col in df.select_dtypes(include='object').columns}) #Object to string\n",
    "\n",
    "#We check the changes\n",
    "print(df.info())"
   ]
  },
  {
   "cell_type": "markdown",
   "metadata": {},
   "source": [
    "# Cleaning / Replace values\n",
    "Period, product-name, process, process-name, series-name y value doesnt need replaces or cleaning"
   ]
  },
  {
   "cell_type": "markdown",
   "metadata": {},
   "source": [
    "## Area-name"
   ]
  },
  {
   "cell_type": "code",
   "execution_count": 19,
   "metadata": {},
   "outputs": [],
   "source": [
    "replaces = {\n",
    "    'PADD 5 EXCEPT CALIFORNIA': 'West Coast (except California)','PADD 4': 'Rocky Mountain',\n",
    "    'PADD 2': 'Midwest','PADD 5': 'West Coast','PADD 3': 'Gulf Coast','PADD 1C': 'East Coast (Central)',\n",
    "    'PADD 1B': 'East Coast (North)','PADD 1A': 'East Coast (South)','PADD 1': 'East Coast'\n",
    "} #Create a dictionary to replace the PADD values to a more explicit name\n",
    "df['area-name'] = df['area-name'].replace(replaces) #Replaces"
   ]
  },
  {
   "cell_type": "markdown",
   "metadata": {},
   "source": [
    "## New Area column"
   ]
  },
  {
   "cell_type": "code",
   "execution_count": 20,
   "metadata": {},
   "outputs": [],
   "source": [
    "#Make a list for the codes to know if an area is city/state/region\n",
    "city_list = ['DENVER', 'NEW YORK CITY', 'SAN FRANCISCO', 'MIAMI', 'CLEVELAND', \n",
    "              'CHICAGO', 'SEATTLE', 'HOUSTON', 'LOS ANGELES', 'BOSTON']\n",
    "\n",
    "state_list = ['TEXAS', 'NEW YORK', 'COLORADO', 'CALIFORNIA', 'MINNESOTA', 'FLORIDA', 'MASSACHUSETTS', \n",
    "               'WASHINGTON', 'OHIO']\n",
    "\n",
    "region_list = ['West Coast (except California)', 'Rocky Mountain', 'Midwest', 'West Coast', \n",
    "               'Gulf Coast', 'East Coast (Central)', 'East Coast (North)', 'U.S.', \n",
    "               'East Coast (South)', 'East Coast']\n",
    "\n",
    "#Create the column 'area' based in 'area-name' values (If they are reffering to a city/state/region)\n",
    "df['area'] = np.where(df['area-name'].isin(city_list), 'City',\n",
    "               np.where(df['area-name'].isin(state_list), 'State', \n",
    "               np.where(df['area-name'].isin(region_list), 'Region', df['area-name'])))"
   ]
  },
  {
   "cell_type": "code",
   "execution_count": 21,
   "metadata": {},
   "outputs": [
    {
     "data": {
      "text/plain": [
       "area-name\n",
       "West Coast (except California)    46\n",
       "Rocky Mountain                    46\n",
       "Midwest                           46\n",
       "Gulf Coast                        45\n",
       "East Coast (Central)              45\n",
       "West Coast                        45\n",
       "U.S.                              44\n",
       "East Coast (North)                44\n",
       "East Coast (South)                44\n",
       "East Coast                        42\n",
       "TEXAS                             39\n",
       "COLORADO                          38\n",
       "DENVER                            38\n",
       "NEW YORK                          38\n",
       "CALIFORNIA                        32\n",
       "MIAMI                             28\n",
       "NEW YORK CITY                     28\n",
       "SAN FRANCISCO                     28\n",
       "CLEVELAND                         28\n",
       "SEATTLE                           27\n",
       "CHICAGO                           27\n",
       "HOUSTON                           27\n",
       "MINNESOTA                         26\n",
       "LOS ANGELES                       26\n",
       "MASSACHUSETTS                     25\n",
       "FLORIDA                           25\n",
       "WASHINGTON                        25\n",
       "BOSTON                            24\n",
       "OHIO                              24\n",
       "Name: count, dtype: Int64"
      ]
     },
     "execution_count": 21,
     "metadata": {},
     "output_type": "execute_result"
    }
   ],
   "source": [
    "df['area-name'].value_counts()"
   ]
  },
  {
   "cell_type": "code",
   "execution_count": 22,
   "metadata": {},
   "outputs": [
    {
     "data": {
      "text/plain": [
       "area\n",
       "Region    447\n",
       "City      281\n",
       "State     272\n",
       "Name: count, dtype: int64"
      ]
     },
     "execution_count": 22,
     "metadata": {},
     "output_type": "execute_result"
    }
   ],
   "source": [
    "df['area'].value_counts()"
   ]
  },
  {
   "cell_type": "markdown",
   "metadata": {},
   "source": [
    "The PADDs (now replaced by other names) fully cover all 50 states of the USA...\n",
    "\n",
    "**PADD 1 (East Coast)**:\n",
    "- **East Coast (South)**: includes states such as Florida, Georgia, North Carolina, and South Carolina.\n",
    "- **East Coast (Central)**: includes Mid-Atlantic states like New York, New Jersey, and Pennsylvania.\n",
    "- **East Coast (North)**: includes states from New England such as Maine, Vermont, Massachusetts, etc.\n",
    "\n",
    "Therefore, PADD 1 covers states from the Northeast, Mid-Atlantic, and Southeast.\n",
    "\n",
    "**PADD 2 (Midwest)**: includes states from the Midwest such as Illinois, Ohio, Michigan, Indiana, Wisconsin, Minnesota, and others.\n",
    "\n",
    "**PADD 3 (Gulf Coast)**: includes Gulf Coast states such as Texas, Louisiana, Mississippi, Alabama.\n",
    "\n",
    "**PADD 4 (Rocky Mountain)**: includes mountainous states such as Colorado, Utah, Wyoming, Montana, Idaho.\n",
    "\n",
    "**PADD 5 (West Coast)**: includes the West Coast states such as California, Oregon, Washington.\n",
    "- **PADD 5 EXCEPT CALIFORNIA**: is the same region but excludes California and may include Oregon and Washington.\n"
   ]
  },
  {
   "cell_type": "markdown",
   "metadata": {},
   "source": [
    "## Product\n",
    "We will change this column to use it solely to define which product it refers to (in this case, gasoline or diesel)."
   ]
  },
  {
   "cell_type": "code",
   "execution_count": 23,
   "metadata": {},
   "outputs": [],
   "source": [
    "#Make a list for the codes to gasoline/diesel\n",
    "gasoline_codes = ['EPM0', 'EPMM', 'EPMP', 'EPMR', 'EPMMR', 'EPMRR', 'EPM0R', 'EPMMU', 'EPMPR','EPMPU', 'EPM0U', 'EPMRU']\n",
    "diesel_codes = ['EPD2DXL0', 'EPD2D']\n",
    "\n",
    "#Replaces\n",
    "df['product'] = np.where(df['product'].isin(gasoline_codes), 'Gasoline', \n",
    "                np.where(df['product'].isin(diesel_codes), 'Diesel', df['product']))"
   ]
  },
  {
   "cell_type": "code",
   "execution_count": 24,
   "metadata": {},
   "outputs": [
    {
     "name": "stdout",
     "output_type": "stream",
     "text": [
      "product-name\n",
      "Total Gasoline                       97\n",
      "Midgrade Gasoline                    96\n",
      "Premium Gasoline                     94\n",
      "Regular Gasoline                     91\n",
      "Gasoline Reformulated Midgrade       75\n",
      "Reformulated Regular Gasoline        74\n",
      "Reformulated Motor Gasoline          73\n",
      "Gasoline Conventional Midgrade       69\n",
      "Reformulated Premium Gasoline        68\n",
      "Conventional Premium Gasoline        66\n",
      "Conventional Gasoline (No Oxy)       66\n",
      "Conventional Regular Gasoline        64\n",
      "No 2 Diesel Low Sulfur (0-15 ppm)    34\n",
      "No 2 Diesel                          33\n",
      "Name: count, dtype: Int64\n"
     ]
    }
   ],
   "source": [
    "print(df['product-name'].value_counts())"
   ]
  },
  {
   "cell_type": "code",
   "execution_count": 25,
   "metadata": {},
   "outputs": [
    {
     "name": "stdout",
     "output_type": "stream",
     "text": [
      "product\n",
      "Gasoline    933\n",
      "Diesel       67\n",
      "Name: count, dtype: int64\n"
     ]
    }
   ],
   "source": [
    "print(df['product'].value_counts())"
   ]
  },
  {
   "cell_type": "markdown",
   "metadata": {},
   "source": [
    "## Nulls cleaning\n",
    "Value has some nulls, so we will delete those rows."
   ]
  },
  {
   "cell_type": "code",
   "execution_count": 26,
   "metadata": {},
   "outputs": [],
   "source": [
    "df.dropna(subset=['value($/GAL)'], inplace=True) #No nulls"
   ]
  },
  {
   "cell_type": "code",
   "execution_count": 27,
   "metadata": {},
   "outputs": [
    {
     "name": "stdout",
     "output_type": "stream",
     "text": [
      "<class 'pandas.core.frame.DataFrame'>\n",
      "Index: 988 entries, 0 to 999\n",
      "Data columns (total 9 columns):\n",
      " #   Column              Non-Null Count  Dtype         \n",
      "---  ------              --------------  -----         \n",
      " 0   period              988 non-null    datetime64[ns]\n",
      " 1   area-name           988 non-null    string        \n",
      " 2   product             988 non-null    object        \n",
      " 3   product-name        988 non-null    string        \n",
      " 4   process             988 non-null    string        \n",
      " 5   process-name        988 non-null    string        \n",
      " 6   series-description  988 non-null    string        \n",
      " 7   value($/GAL)        988 non-null    float64       \n",
      " 8   area                988 non-null    object        \n",
      "dtypes: datetime64[ns](1), float64(1), object(2), string(5)\n",
      "memory usage: 77.2+ KB\n"
     ]
    }
   ],
   "source": [
    "df.info()"
   ]
  },
  {
   "cell_type": "markdown",
   "metadata": {},
   "source": [
    "We save it as a CSV."
   ]
  },
  {
   "cell_type": "code",
   "execution_count": 28,
   "metadata": {},
   "outputs": [],
   "source": [
    "df.to_csv('../Data/Clean/petroleum_clean.csv', index=False)"
   ]
  },
  {
   "cell_type": "markdown",
   "metadata": {},
   "source": [
    "We upload it to the database."
   ]
  },
  {
   "cell_type": "code",
   "execution_count": 34,
   "metadata": {},
   "outputs": [
    {
     "name": "stdout",
     "output_type": "stream",
     "text": [
      "Tabla 'api_petroleum' actualizada correctamente.\n"
     ]
    }
   ],
   "source": [
    "load_dotenv()\n",
    "\n",
    "localhost = os.getenv('LOCALHOST')\n",
    "port = os.getenv('PORT')\n",
    "nameDB = os.getenv('DB_NAME')\n",
    "userDB = os.getenv('DB_USER')\n",
    "passDB = os.getenv('DB_PASS')\n",
    "\n",
    "  \n",
    "clean_table_database =  \"api_petroleum\"\n",
    "\n",
    "engine = create_engine(f'postgresql+psycopg2://{userDB}:{passDB}@{localhost}:{port}/{nameDB}')\n",
    "\n",
    "try:\n",
    "    df.to_sql(clean_table_database, engine, if_exists='replace', index=False)\n",
    "    print(f\"Tabla '{clean_table_database}' actualizada correctamente.\")\n",
    "\n",
    "except Exception as e:\n",
    "    print(f\"Error al subir los datos: {e}\")\n",
    "\n",
    "finally:\n",
    "    engine.dispose()"
   ]
  },
  {
   "cell_type": "markdown",
   "metadata": {},
   "source": [
    "# Visualizations "
   ]
  },
  {
   "cell_type": "code",
   "execution_count": 8,
   "metadata": {},
   "outputs": [
    {
     "data": {
      "image/png": "[encoded data removed]",
      "text/plain": [
       "<Figure size 1000x600 with 1 Axes>"
      ]
     },
     "metadata": {},
     "output_type": "display_data"
    }
   ],
   "source": [
    "import seaborn as sns\n",
    "\n",
    "plt.figure(figsize=(10,6))\n",
    "sns.histplot(df['value($/GAL)'], bins=30, kde=True)\n",
    "plt.title('Distribución de Precios de Gasolina por Galón ($/GAL)')\n",
    "plt.xlabel('Precio ($/GAL)')\n",
    "plt.ylabel('Frecuencia')\n",
    "plt.show()"
   ]
  },
  {
   "cell_type": "code",
   "execution_count": 13,
   "metadata": {},
   "outputs": [
    {
     "name": "stderr",
     "output_type": "stream",
     "text": [
      "/tmp/ipykernel_4591/3769719736.py:2: FutureWarning: \n",
      "\n",
      "The `ci` parameter is deprecated. Use `errorbar=None` for the same effect.\n",
      "\n",
      "  sns.barplot(x='area-name', y='value($/GAL)', data=df, ci=None)\n"
     ]
    },
    {
     "data": {
      "image/png": "[encoded data removed]",
      "text/plain": [
       "<Figure size 1200x600 with 1 Axes>"
      ]
     },
     "metadata": {},
     "output_type": "display_data"
    }
   ],
   "source": [
    "plt.figure(figsize=(12,6))\n",
    "sns.barplot(x='area-name', y='value($/GAL)', data=df, ci=None)\n",
    "plt.xticks(rotation=90)\n",
    "plt.title('Promedio de Precios por Área')\n",
    "plt.xlabel('Área')\n",
    "plt.ylabel('Precio Promedio ($/GAL)')\n",
    "plt.show()\n"
   ]
  }
 ],
 "metadata": {
  "kernelspec": {
   "display_name": "proyect-etl-6HAvAK5N-py3.12",
   "language": "python",
   "name": "python3"
  },
  "language_info": {
   "codemirror_mode": {
    "name": "ipython",
    "version": 3
   },
   "file_extension": ".py",
   "mimetype": "text/x-python",
   "name": "python",
   "nbconvert_exporter": "python",
   "pygments_lexer": "ipython3",
   "version": "3.12.3"
  }
 },
 "nbformat": 4,
 "nbformat_minor": 2
}
