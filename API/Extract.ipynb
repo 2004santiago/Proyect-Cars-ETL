{
 "cells": [
  {
   "cell_type": "code",
   "execution_count": null,
   "metadata": {},
   "outputs": [],
   "source": [
    "import requests\n",
    "import pandas as pd\n",
    "\n",
    "# URL\n",
    "url = \"https://api.eia.gov/v2/petroleum/pri/gnd/data/?frequency=weekly&data[0]=value&sort[0][column]=period&sort[0][direction]=desc&offset=0&length=1000&api_key=bqwjaJLDl8NGnarM5gvFz7iDmIGNyKK47vtgmX91\"\n",
    "\n",
    "# Llamado a la API\n",
    "response = requests.get(url)\n",
    "\n",
    "if response.status_code == 200:\n",
    "    data = response.json()\n",
    "    \n",
    "    if 'response' in data and 'data' in data['response']:\n",
    "        records = data['response']['data']\n",
    "        \n",
    "        df = pd.DataFrame(records)\n",
    "        \n",
    "        print(df.head())\n",
    "        print(f\"Total de registros obtenidos: {len(df)}\")\n",
    "    else:\n",
    "        print(\"Error: La estructura del JSON no contiene los datos esperados.\")\n",
    "else:\n",
    "    print(f\"Error: Falló el llamado a la API con el código de estado {response.status_code}\")"
   ]
  }
 ],
 "metadata": {
  "language_info": {
   "name": "python"
  }
 },
 "nbformat": 4,
 "nbformat_minor": 2
}
