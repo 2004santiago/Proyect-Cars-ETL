{
 "cells": [
  {
   "cell_type": "code",
   "execution_count": 1,
   "metadata": {},
   "outputs": [],
   "source": [
    "import pandas as pd\n",
    "import numpy as np\n",
    "import matplotlib.pyplot as plt\n",
    "from sqlalchemy import create_engine, inspect\n",
    "from dotenv import load_dotenv\n",
    "import os"
   ]
  },
  {
   "cell_type": "code",
   "execution_count": 2,
   "metadata": {},
   "outputs": [],
   "source": [
    "df = pd.read_csv('Data/Clean/cars_clean.csv')\n",
    "apidf = pd.read_csv('Data/Clean/petroleum_clean.csv')"
   ]
  },
  {
   "cell_type": "code",
   "execution_count": 4,
   "metadata": {},
   "outputs": [
    {
     "name": "stdout",
     "output_type": "stream",
     "text": [
      "<class 'pandas.core.frame.DataFrame'>\n",
      "RangeIndex: 8452 entries, 0 to 8451\n",
      "Data columns (total 32 columns):\n",
      " #   Column                 Non-Null Count  Dtype  \n",
      "---  ------                 --------------  -----  \n",
      " 0   Year                   8452 non-null   int64  \n",
      " 1   Make                   8452 non-null   object \n",
      " 2   Model                  8452 non-null   object \n",
      " 3   Used                   8452 non-null   bool   \n",
      " 4   Price                  8452 non-null   int64  \n",
      " 5   ConsumerRating         8452 non-null   float64\n",
      " 6   ConsumerReviews        8452 non-null   int64  \n",
      " 7   SellerType             8452 non-null   object \n",
      " 8   SellerName             8452 non-null   object \n",
      " 9   SellerRating           8452 non-null   float64\n",
      " 10  SellerReviews          8452 non-null   int64  \n",
      " 11  StreetName             8452 non-null   object \n",
      " 12  State                  8452 non-null   object \n",
      " 13  Zipcode                8452 non-null   object \n",
      " 14  DealType               8247 non-null   object \n",
      " 15  ComfortRating          8452 non-null   float64\n",
      " 16  InteriorDesignRating   8452 non-null   float64\n",
      " 17  PerformanceRating      8452 non-null   float64\n",
      " 18  ValueForMoneyRating    8452 non-null   float64\n",
      " 19  ExteriorStylingRating  8452 non-null   float64\n",
      " 20  ReliabilityRating      8452 non-null   float64\n",
      " 21  ExteriorColor          8452 non-null   object \n",
      " 22  InteriorColor          8452 non-null   object \n",
      " 23  Drivetrain             8452 non-null   object \n",
      " 24  MinMPG                 8452 non-null   int64  \n",
      " 25  MaxMPG                 8452 non-null   int64  \n",
      " 26  FuelType               8452 non-null   object \n",
      " 27  Transmission           8452 non-null   object \n",
      " 28  Engine                 8452 non-null   object \n",
      " 29  VIN                    8452 non-null   object \n",
      " 30  Stock#                 8452 non-null   object \n",
      " 31  Mileage                8452 non-null   int64  \n",
      "dtypes: bool(1), float64(8), int64(7), object(16)\n",
      "memory usage: 2.0+ MB\n"
     ]
    }
   ],
   "source": [
    "df.info()"
   ]
  },
  {
   "cell_type": "markdown",
   "metadata": {},
   "source": [
    "## Dimensions"
   ]
  },
  {
   "cell_type": "markdown",
   "metadata": {},
   "source": [
    "### Vehiculo"
   ]
  },
  {
   "cell_type": "code",
   "execution_count": 17,
   "metadata": {},
   "outputs": [
    {
     "name": "stdout",
     "output_type": "stream",
     "text": [
      "<class 'pandas.core.frame.DataFrame'>\n",
      "RangeIndex: 3221 entries, 0 to 3220\n",
      "Data columns (total 10 columns):\n",
      " #   Column        Non-Null Count  Dtype \n",
      "---  ------        --------------  ----- \n",
      " 0   Year          3221 non-null   int64 \n",
      " 1   Make          3221 non-null   object\n",
      " 2   Model         3221 non-null   object\n",
      " 3   Drivetrain    3221 non-null   object\n",
      " 4   MinMPG        3221 non-null   int64 \n",
      " 5   MaxMPG        3221 non-null   int64 \n",
      " 6   FuelType      3221 non-null   object\n",
      " 7   Transmission  3221 non-null   object\n",
      " 8   Engine        3221 non-null   object\n",
      " 9   ID_Vehiculo   3221 non-null   int64 \n",
      "dtypes: int64(4), object(6)\n",
      "memory usage: 251.8+ KB\n"
     ]
    }
   ],
   "source": [
    "# Dimensión: Vehículo (sin las columnas que van a la tabla de hechos)\n",
    "dimension_vehiculo = df[['Year', 'Make', 'Model', 'Drivetrain', 'MinMPG', 'MaxMPG', \n",
    "                         'FuelType', 'Transmission', 'Engine']].drop_duplicates().reset_index(drop=True)\n",
    "\n",
    "# Asignar un ID único a cada vehículo\n",
    "dimension_vehiculo['ID_Vehiculo'] = dimension_vehiculo.index + 1\n",
    "\n",
    "# Mostrar la dimensión de vehículo\n",
    "dimension_vehiculo.info()"
   ]
  },
  {
   "cell_type": "markdown",
   "metadata": {},
   "source": [
    "### Vendedor"
   ]
  },
  {
   "cell_type": "code",
   "execution_count": 16,
   "metadata": {},
   "outputs": [
    {
     "name": "stdout",
     "output_type": "stream",
     "text": [
      "<class 'pandas.core.frame.DataFrame'>\n",
      "RangeIndex: 3972 entries, 0 to 3971\n",
      "Data columns (total 6 columns):\n",
      " #   Column      Non-Null Count  Dtype \n",
      "---  ------      --------------  ----- \n",
      " 0   SellerName  3972 non-null   object\n",
      " 1   SellerType  3972 non-null   object\n",
      " 2   State       3972 non-null   object\n",
      " 3   Zipcode     3972 non-null   object\n",
      " 4   StreetName  3972 non-null   object\n",
      " 5   ID_Seller   3972 non-null   int64 \n",
      "dtypes: int64(1), object(5)\n",
      "memory usage: 186.3+ KB\n"
     ]
    }
   ],
   "source": [
    "# Dimensión: Vendedor (sin cambios)\n",
    "dimension_vendedor = df[['SellerName', 'SellerType', 'State', 'Zipcode', 'StreetName']].drop_duplicates().reset_index(drop=True)\n",
    "\n",
    "# Asignar un ID único a cada vendedor\n",
    "dimension_vendedor['ID_Seller'] = dimension_vendedor.index + 1\n",
    "\n",
    "# Mostrar la dimensión de vendedor\n",
    "dimension_vendedor.info()"
   ]
  },
  {
   "cell_type": "markdown",
   "metadata": {},
   "source": [
    "## Ratings"
   ]
  },
  {
   "cell_type": "code",
   "execution_count": 23,
   "metadata": {},
   "outputs": [
    {
     "name": "stdout",
     "output_type": "stream",
     "text": [
      "<class 'pandas.core.frame.DataFrame'>\n",
      "RangeIndex: 5285 entries, 0 to 5284\n",
      "Data columns (total 10 columns):\n",
      " #   Column                 Non-Null Count  Dtype  \n",
      "---  ------                 --------------  -----  \n",
      " 0   ConsumerRating         5285 non-null   float64\n",
      " 1   SellerRating           5285 non-null   float64\n",
      " 2   ComfortRating          5285 non-null   float64\n",
      " 3   InteriorDesignRating   5285 non-null   float64\n",
      " 4   PerformanceRating      5285 non-null   float64\n",
      " 5   ValueForMoneyRating    5285 non-null   float64\n",
      " 6   ExteriorStylingRating  5285 non-null   float64\n",
      " 7   ReliabilityRating      5285 non-null   float64\n",
      " 8   DealType               5093 non-null   object \n",
      " 9   ID_Rating              5285 non-null   int64  \n",
      "dtypes: float64(8), int64(1), object(1)\n",
      "memory usage: 413.0+ KB\n"
     ]
    }
   ],
   "source": [
    "# Dimensión: Ratings (nueva dimensión enfocada en calificaciones)\n",
    "dimension_ratings = df[['ConsumerRating', 'SellerRating', 'ComfortRating', 'InteriorDesignRating', \n",
    "                        'PerformanceRating', 'ValueForMoneyRating', 'ExteriorStylingRating', \n",
    "                        'ReliabilityRating', 'DealType']].drop_duplicates().reset_index(drop=True)\n",
    "\n",
    "# Asignar un ID único a cada set de ratings\n",
    "dimension_ratings['ID_Rating'] = dimension_ratings.index + 1\n",
    "\n",
    "# Mostrar la dimensión de ratings\n",
    "dimension_ratings.info()\n"
   ]
  },
  {
   "cell_type": "markdown",
   "metadata": {},
   "source": [
    "## Fact table"
   ]
  },
  {
   "cell_type": "code",
   "execution_count": 24,
   "metadata": {},
   "outputs": [
    {
     "name": "stdout",
     "output_type": "stream",
     "text": [
      "<class 'pandas.core.frame.DataFrame'>\n",
      "RangeIndex: 8452 entries, 0 to 8451\n",
      "Data columns (total 11 columns):\n",
      " #   Column         Non-Null Count  Dtype \n",
      "---  ------         --------------  ----- \n",
      " 0   ID_Venta       8452 non-null   int64 \n",
      " 1   ID_Vehiculo    8452 non-null   int64 \n",
      " 2   ID_Seller      8452 non-null   int64 \n",
      " 3   ID_Rating      8452 non-null   int64 \n",
      " 4   Price          8452 non-null   int64 \n",
      " 5   Mileage        8452 non-null   int64 \n",
      " 6   ExteriorColor  8452 non-null   object\n",
      " 7   InteriorColor  8452 non-null   object\n",
      " 8   Used           8452 non-null   bool  \n",
      " 9   VIN            8452 non-null   object\n",
      " 10  Stock#         8452 non-null   object\n",
      "dtypes: bool(1), int64(6), object(4)\n",
      "memory usage: 668.7+ KB\n"
     ]
    }
   ],
   "source": [
    "# Unir el dataframe original con la dimensión de vendedores para asignar el ID_Seller\n",
    "df_hechos_vendedor = pd.merge(df, dimension_vendedor, on=['SellerName', 'SellerType', 'State', 'Zipcode', 'StreetName'], how='left')\n",
    "\n",
    "# Unir el dataframe original con la dimensión de vehículos para asignar el ID_Vehiculo\n",
    "df_hechos_vehiculo = pd.merge(df, dimension_vehiculo, on=['Year', 'Make', 'Model', 'Drivetrain', 'MinMPG', 'MaxMPG', \n",
    "                                                          'FuelType', 'Transmission', 'Engine'], how='left')\n",
    "\n",
    "# Unir el dataframe original con la dimensión de ratings para asignar el ID_Rating\n",
    "df_hechos_ratings = pd.merge(df, dimension_ratings, on=['ConsumerRating', 'SellerRating', 'ComfortRating', \n",
    "                                                        'InteriorDesignRating', 'PerformanceRating', \n",
    "                                                        'ValueForMoneyRating', 'ExteriorStylingRating', \n",
    "                                                        'ReliabilityRating', 'DealType'], how='left')\n",
    "\n",
    "# Crear la tabla de hechos con las columnas restantes (sin las que movimos a la dimensión de ratings)\n",
    "tabla_hechos = df_hechos_vendedor[['Price', 'Mileage', 'ExteriorColor', 'InteriorColor', 'Used', 'VIN', 'Stock#', 'ID_Seller']].copy()\n",
    "\n",
    "# Agregar el ID_Vehiculo desde df_hechos_vehiculo\n",
    "tabla_hechos['ID_Vehiculo'] = df_hechos_vehiculo['ID_Vehiculo']\n",
    "\n",
    "# Agregar el ID_Rating desde df_hechos_ratings\n",
    "tabla_hechos['ID_Rating'] = df_hechos_ratings['ID_Rating']\n",
    "\n",
    "# Asignar un ID único a cada venta (ID_Venta)\n",
    "tabla_hechos['ID_Venta'] = df.index + 1\n",
    "\n",
    "# Reordenar las columnas como en tu modelo dimensional\n",
    "tabla_hechos = tabla_hechos[['ID_Venta', 'ID_Vehiculo', 'ID_Seller', 'ID_Rating', 'Price', \n",
    "                             'Mileage', 'ExteriorColor', 'InteriorColor', 'Used', 'VIN', 'Stock#']]\n",
    "\n",
    "# Mostrar la tabla de hechos\n",
    "tabla_hechos.info()\n"
   ]
  },
  {
   "cell_type": "code",
   "execution_count": 25,
   "metadata": {},
   "outputs": [
    {
     "data": {
      "text/plain": [
       "ID_Rating\n",
       "256     55\n",
       "705     37\n",
       "501     33\n",
       "202     22\n",
       "209     22\n",
       "        ..\n",
       "5282     1\n",
       "5283     1\n",
       "5284     1\n",
       "5285     1\n",
       "6        1\n",
       "Name: count, Length: 5285, dtype: int64"
      ]
     },
     "execution_count": 25,
     "metadata": {},
     "output_type": "execute_result"
    }
   ],
   "source": [
    "tabla_hechos['ID_Rating'].value_counts()"
   ]
  },
  {
   "cell_type": "code",
   "execution_count": 26,
   "metadata": {},
   "outputs": [],
   "source": [
    "# Guardar las tablas en archivos CSV\n",
    "tabla_hechos.to_csv('Dimensional_en_csv/tabla_hechos.csv', index=False)\n",
    "dimension_vehiculo.to_csv('Dimensional_en_csv/dimension_vehiculo.csv', index=False)\n",
    "dimension_vendedor.to_csv('Dimensional_en_csv/dimension_vendedor.csv', index=False)\n",
    "dimension_ratings.to_csv('Dimensional_en_csv/dimension_ratings.csv', index=False)\n"
   ]
  }
 ],
 "metadata": {
  "kernelspec": {
   "display_name": "env",
   "language": "python",
   "name": "python3"
  },
  "language_info": {
   "codemirror_mode": {
    "name": "ipython",
    "version": 3
   },
   "file_extension": ".py",
   "mimetype": "text/x-python",
   "name": "python",
   "nbconvert_exporter": "python",
   "pygments_lexer": "ipython3",
   "version": "3.12.6"
  }
 },
 "nbformat": 4,
 "nbformat_minor": 2
}
