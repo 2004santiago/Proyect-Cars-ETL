{
 "cells": [
  {
   "cell_type": "markdown",
   "metadata": {},
   "source": [
    "Importación de librerías necesarias "
   ]
  },
  {
   "cell_type": "code",
   "execution_count": 2,
   "metadata": {},
   "outputs": [],
   "source": [
    "import pandas as pd\n",
    "import numpy as np\n",
    "import matplotlib.pyplot as plt\n",
    "from sqlalchemy import create_engine, inspect\n",
    "from dotenv import load_dotenv\n",
    "import os"
   ]
  },
  {
   "cell_type": "markdown",
   "metadata": {},
   "source": [
    "Carga de credenciales para acceder a la base de datos"
   ]
  },
  {
   "cell_type": "code",
   "execution_count": 6,
   "metadata": {},
   "outputs": [
    {
     "name": "stdout",
     "output_type": "stream",
     "text": [
      "Conexión exitosa a la base de datos.\n"
     ]
    }
   ],
   "source": [
    "load_dotenv()\n",
    "\n",
    "localhost = os.getenv('LOCALHOST')\n",
    "port = os.getenv('PORT')\n",
    "nameDB = os.getenv('DB_NAME')\n",
    "userDB = os.getenv('DB_USER')\n",
    "passDB = os.getenv('DB_PASS')\n",
    "\n",
    "engine = create_engine(f'postgresql+psycopg2://{userDB}:{passDB}@{localhost}:{port}/{nameDB}')\n",
    "\n",
    "inspector = inspect(engine)\n",
    "\n",
    "try:\n",
    "    engine = create_engine(f'postgresql+psycopg2://{userDB}:{passDB}@{localhost}:{port}/{nameDB}')\n",
    "\n",
    "    inspector = inspect(engine)\n",
    "    \n",
    "    print(\"Conexión exitosa a la base de datos.\")\n",
    "\n",
    "except Exception as e:\n",
    "    print(f\"Error al conectar a la base de datos: {e}\")\n",
    "\n",
    "finally:\n",
    "    engine.dispose()"
   ]
  },
  {
   "cell_type": "markdown",
   "metadata": {},
   "source": [
    "# Carga de los datos"
   ]
  },
  {
   "cell_type": "code",
   "execution_count": 7,
   "metadata": {},
   "outputs": [
    {
     "name": "stdout",
     "output_type": "stream",
     "text": [
      "   Year    Make            Model Used/New    Price  ConsumerRating  \\\n",
      "0  2019  Toyota        Sienna SE     Used  $39,998             4.6   \n",
      "1  2018    Ford     F-150 Lariat     Used  $49,985             4.8   \n",
      "2  2017     RAM     1500 Laramie     Used  $41,860             4.7   \n",
      "3  2021   Honda  Accord Sport SE     Used  $28,500             5.0   \n",
      "4  2020   Lexus           RX 350     Used  $49,000             4.8   \n",
      "\n",
      "   ConsumerReviews SellerType  \\\n",
      "0               45     Dealer   \n",
      "1              817     Dealer   \n",
      "2              495     Dealer   \n",
      "3               36     Dealer   \n",
      "4               76     Dealer   \n",
      "\n",
      "                                          SellerName  SellerRating  ...  \\\n",
      "0  CarMax Murrieta - Now offering Curbside Pickup...           3.3  ...   \n",
      "1                                    Giant Chevrolet           4.8  ...   \n",
      "2                             Gill Auto Group Madera           4.6  ...   \n",
      "3                                AutoSavvy Las Vegas           4.6  ...   \n",
      "4                                 Lexus of Henderson           4.8  ...   \n",
      "\n",
      "   InteriorColor         Drivetrain MinMPG MaxMPG  FuelType  \\\n",
      "0          Black  Front-wheel Drive     19     27  Gasoline   \n",
      "1          Black   Four-wheel Drive     19     24  Gasoline   \n",
      "2          Black   Four-wheel Drive     15     21  Gasoline   \n",
      "3              –  Front-wheel Drive     29     35  Gasoline   \n",
      "4          Birch  Front-wheel Drive     20     27  Gasoline   \n",
      "\n",
      "         Transmission                           Engine                VIN  \\\n",
      "0   8-Speed Automatic             3.5L V6 24V PDI DOHC  5TDXZ3DC2KS015402   \n",
      "1  10-Speed Automatic  3.5L V6 24V PDI DOHC Twin Turbo  1FTEW1EG2JFD44217   \n",
      "2   8-Speed Automatic             5.7L V8 16V MPFI OHV  1C6RR7VT5HS842283   \n",
      "3       Automatic CVT       1.5L I4 16V GDI DOHC Turbo  1HGCV1F49MA038035   \n",
      "4   8-Speed Automatic             3.5L V6 24V PDI DOHC  2T2AZMAA8LC156270   \n",
      "\n",
      "      Stock#  Mileage  \n",
      "0   22998646    29403  \n",
      "1     22418A    32929  \n",
      "2  NG277871G    23173  \n",
      "3      54237    10598  \n",
      "4   HDT4181A    28137  \n",
      "\n",
      "[5 rows x 32 columns]\n",
      "<class 'pandas.core.frame.DataFrame'>\n",
      "RangeIndex: 9379 entries, 0 to 9378\n",
      "Data columns (total 32 columns):\n",
      " #   Column                 Non-Null Count  Dtype  \n",
      "---  ------                 --------------  -----  \n",
      " 0   Year                   9379 non-null   int64  \n",
      " 1   Make                   9379 non-null   object \n",
      " 2   Model                  9379 non-null   object \n",
      " 3   Used/New               9379 non-null   object \n",
      " 4   Price                  9379 non-null   object \n",
      " 5   ConsumerRating         9379 non-null   float64\n",
      " 6   ConsumerReviews        9379 non-null   int64  \n",
      " 7   SellerType             9379 non-null   object \n",
      " 8   SellerName             9379 non-null   object \n",
      " 9   SellerRating           9379 non-null   float64\n",
      " 10  SellerReviews          9379 non-null   int64  \n",
      " 11  StreetName             9379 non-null   object \n",
      " 12  State                  9379 non-null   object \n",
      " 13  Zipcode                9379 non-null   object \n",
      " 14  DealType               9157 non-null   object \n",
      " 15  ComfortRating          9379 non-null   float64\n",
      " 16  InteriorDesignRating   9379 non-null   float64\n",
      " 17  PerformanceRating      9379 non-null   float64\n",
      " 18  ValueForMoneyRating    9379 non-null   float64\n",
      " 19  ExteriorStylingRating  9379 non-null   float64\n",
      " 20  ReliabilityRating      9379 non-null   float64\n",
      " 21  ExteriorColor          9379 non-null   object \n",
      " 22  InteriorColor          9379 non-null   object \n",
      " 23  Drivetrain             9379 non-null   object \n",
      " 24  MinMPG                 9379 non-null   int64  \n",
      " 25  MaxMPG                 9379 non-null   int64  \n",
      " 26  FuelType               9379 non-null   object \n",
      " 27  Transmission           9379 non-null   object \n",
      " 28  Engine                 9379 non-null   object \n",
      " 29  VIN                    9379 non-null   object \n",
      " 30  Stock#                 9379 non-null   object \n",
      " 31  Mileage                9379 non-null   int64  \n",
      "dtypes: float64(8), int64(6), object(18)\n",
      "memory usage: 2.3+ MB\n",
      "None\n"
     ]
    }
   ],
   "source": [
    "dataframe = 'cars'  \n",
    "\n",
    "df = pd.read_sql_table(dataframe, engine)\n",
    "\n",
    "print(df.head())\n",
    "print(df.info())"
   ]
  }
 ],
 "metadata": {
  "kernelspec": {
   "display_name": "proyect-etl-2hdl7u7z-py3.12",
   "language": "python",
   "name": "python3"
  },
  "language_info": {
   "codemirror_mode": {
    "name": "ipython",
    "version": 3
   },
   "file_extension": ".py",
   "mimetype": "text/x-python",
   "name": "python",
   "nbconvert_exporter": "python",
   "pygments_lexer": "ipython3",
   "version": "3.12.3"
  }
 },
 "nbformat": 4,
 "nbformat_minor": 2
}
